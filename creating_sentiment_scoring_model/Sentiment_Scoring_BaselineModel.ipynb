{
 "cells": [
  {
   "cell_type": "code",
   "execution_count": 1,
   "metadata": {},
   "outputs": [],
   "source": [
    "from nltk import sent_tokenize, pos_tag\n",
    "from nltk.tokenize import TreebankWordTokenizer\n",
    "from nltk.stem import WordNetLemmatizer\n",
    "from nltk.corpus import wordnet as wn\n",
    "from nltk.corpus import sentiwordnet as swn\n",
    "from nltk.sentiment.util import mark_negation\n",
    "from string import punctuation\n",
    "from IPython.display import display\n",
    "import pandas as pd\n",
    "import numpy as np\n",
    "import seaborn as sns\n",
    "import matplotlib.pyplot as plt\n",
    "pd.set_option('display.max_columns', None)\n",
    "pd.set_option('display.max_colwidth', None)"
   ]
  },
  {
   "cell_type": "markdown",
   "metadata": {},
   "source": [
    "### Sentiment Scoring Using SentiWordNet"
   ]
  },
  {
   "cell_type": "code",
   "execution_count": 2,
   "metadata": {},
   "outputs": [],
   "source": [
    "def penn_to_wn(tag):\n",
    "    \"\"\"\n",
    "        Convert between the PennTreebank tags to simple Wordnet tags\n",
    "    \"\"\"\n",
    "    if tag.startswith('J'):\n",
    "        return wn.ADJ\n",
    "    elif tag.startswith('N'):\n",
    "        return wn.NOUN\n",
    "    elif tag.startswith('R'):\n",
    "        return wn.ADV\n",
    "    elif tag.startswith('V'):\n",
    "        return wn.VERB\n",
    "    return None"
   ]
  },
  {
   "cell_type": "code",
   "execution_count": 3,
   "metadata": {},
   "outputs": [],
   "source": [
    "def get_sentiment_score(text):\n",
    "    \n",
    "    \"\"\"\n",
    "        This method returns the sentiment score of a given text using SentiWordNet sentiment scores.\n",
    "        input: text\n",
    "        output: numeric (double) score, >0 means positive sentiment and <0 means negative sentiment.\n",
    "    \"\"\"    \n",
    "    total_score = 0\n",
    "    #print(text)\n",
    "    raw_sentences = sent_tokenize(text)\n",
    "    #print(raw_sentences)\n",
    "    \n",
    "    for sentence in raw_sentences:\n",
    "\n",
    "        sent_score = 0     \n",
    "        sentence = str(sentence)\n",
    "        #print(sentence)\n",
    "        sentence = sentence.replace(\"<br />\",\" \").translate(str.maketrans('','',punctuation)).lower()\n",
    "        tokens = TreebankWordTokenizer().tokenize(text)\n",
    "        tags = pos_tag(tokens)\n",
    "        for word, tag in tags:\n",
    "            wn_tag = penn_to_wn(tag)\n",
    "            if not wn_tag:\n",
    "                continue\n",
    "            lemma = WordNetLemmatizer().lemmatize(word, pos=wn_tag)\n",
    "            if not lemma:\n",
    "                continue\n",
    "            synsets = wn.synsets(lemma, pos=wn_tag)\n",
    "            if not synsets:\n",
    "                continue\n",
    "            synset = synsets[0]\n",
    "            swn_synset = swn.senti_synset(synset.name())\n",
    "            sent_score += swn_synset.pos_score() - swn_synset.neg_score()\n",
    "\n",
    "        total_score = total_score + (sent_score / len(tokens))\n",
    "\n",
    "    \n",
    "    return (total_score / len(raw_sentences)) * 100"
   ]
  },
  {
   "cell_type": "code",
   "execution_count": 4,
   "metadata": {},
   "outputs": [],
   "source": [
    "reviews = pd.read_csv(\"../data/small_corpus.csv\")"
   ]
  },
  {
   "cell_type": "code",
   "execution_count": 5,
   "metadata": {},
   "outputs": [
    {
     "data": {
      "text/plain": [
       "(4500, 12)"
      ]
     },
     "execution_count": 5,
     "metadata": {},
     "output_type": "execute_result"
    }
   ],
   "source": [
    "reviews.shape"
   ]
  },
  {
   "cell_type": "code",
   "execution_count": 6,
   "metadata": {},
   "outputs": [
    {
     "data": {
      "text/html": [
       "<div>\n",
       "<style scoped>\n",
       "    .dataframe tbody tr th:only-of-type {\n",
       "        vertical-align: middle;\n",
       "    }\n",
       "\n",
       "    .dataframe tbody tr th {\n",
       "        vertical-align: top;\n",
       "    }\n",
       "\n",
       "    .dataframe thead th {\n",
       "        text-align: right;\n",
       "    }\n",
       "</style>\n",
       "<table border=\"1\" class=\"dataframe\">\n",
       "  <thead>\n",
       "    <tr style=\"text-align: right;\">\n",
       "      <th></th>\n",
       "      <th>overall</th>\n",
       "      <th>verified</th>\n",
       "      <th>reviewTime</th>\n",
       "      <th>reviewerID</th>\n",
       "      <th>asin</th>\n",
       "      <th>reviewerName</th>\n",
       "      <th>reviewText</th>\n",
       "      <th>summary</th>\n",
       "      <th>unixReviewTime</th>\n",
       "      <th>vote</th>\n",
       "      <th>style</th>\n",
       "      <th>image</th>\n",
       "    </tr>\n",
       "  </thead>\n",
       "  <tbody>\n",
       "    <tr>\n",
       "      <th>0</th>\n",
       "      <td>1.0</td>\n",
       "      <td>True</td>\n",
       "      <td>11 30, 2015</td>\n",
       "      <td>A3AC92K59QLYR8</td>\n",
       "      <td>B00503E8S2</td>\n",
       "      <td>ben</td>\n",
       "      <td>Game freezes over and over its unplayable</td>\n",
       "      <td>it just doesn't work</td>\n",
       "      <td>1448841600</td>\n",
       "      <td>NaN</td>\n",
       "      <td>{'Format:': ' Video Game'}</td>\n",
       "      <td>NaN</td>\n",
       "    </tr>\n",
       "    <tr>\n",
       "      <th>1</th>\n",
       "      <td>1.0</td>\n",
       "      <td>False</td>\n",
       "      <td>05 19, 2012</td>\n",
       "      <td>A334LHR8DWARY8</td>\n",
       "      <td>B00178630A</td>\n",
       "      <td>Xenocide</td>\n",
       "      <td>I have no problem with needing to be online to play and have had no problems with stability since the first 2 days. This review ignores those issues.\\n\\nThe game itself is fun and addictive, but so is Din's Curse (which was programmed by one guy) and is more re-playble than Diablo 3. Hopefully Torchlight 2 will take the mantle of this genere from Blizzard. One reason all these games are fun is because they are all similar in atmosphere, gameplay and loot system. As a stand alone title, D3 would be 4 stars, maybe- but as a successor to Diablo 2, with all the man-power and resources Blizzard had including the beautiful skill tree system from D2... If I could go lower than 1, I would.\\n\\nWhy was Diablo 2 addictive? One big reason was farming gear- loading magic find amd finding a group for Hell runs, kind of like a drug. But why? For the millions of regular players it was in order to gear up their next specialized build. Everything was centered around unique builds that become somewhat cookie cutter if good. Players perfectly balancing point distributions in attributes and skills to make that personalized zealot or blizzard sorc. The quest for constant gear for new builds was what drove the desire to aquire it. Every major nerf patch was like a ladder reset (which D3 lacks). Even if they add another 5 classes, the problem of no variation or ability to make a custom character means no constant demand for anything but a few top level items.\\n\\nThis seems intentional to keep server use lighter between expansions as there really is little reason to play unless your into farming for only a handful of desired endgame items. Everything else can be gotten off the AH for little gold. Unless they introduce raids that give special gear or something that would make that game into an MMO, none of the desire to keep playing is there unless it's more of a social hang-out.\\n\\nSo, where did all the money and time go? The skills are fun, as are the runes- but also very simplistic. The cut-screens are nicely done but, in this genere, most people watch them once or twice at most, they are basically useless. I'd hate to think all the resources went there when the cut-screens are movie quality where you see real looking people crying and giving decent lines, but then we shift back to real game-play and the next line from the smith who just killed his wife after she vomited and changed into an undead creature is a comically gruff and bemused... \"If you see my idiot apprentice out there, tell him to get back...\"\\n\\nThe same companion dialogue reapeated over and over and often when fighting so it's annoying. It's all just randomized for the most part. So, your talking to your companions in a casual way about something trivial while getting killed by a boss. Poor execution of useless content. It happens often as well.\\n\\nIt is just sad to see no ability to customize a build, choose your dialogue or do much outside of what this game present to you. You essentially walking through how the developers envisioned you to progress- from what you say to what skills you want to master.\\n\\nIt's really sad to see how they dumbed this game down to the point where there is no ability to customize any aspect of your gameplay.</td>\n",
       "      <td>The only real way to show Blizzard our feelings is through Ultimate ratings</td>\n",
       "      <td>1337385600</td>\n",
       "      <td>23</td>\n",
       "      <td>{'Format:': ' Computer Game'}</td>\n",
       "      <td>NaN</td>\n",
       "    </tr>\n",
       "    <tr>\n",
       "      <th>2</th>\n",
       "      <td>1.0</td>\n",
       "      <td>True</td>\n",
       "      <td>10 19, 2014</td>\n",
       "      <td>A28982ODE7ZGVP</td>\n",
       "      <td>B001AWIP7M</td>\n",
       "      <td>Eric Frykberg</td>\n",
       "      <td>NOT GOOD</td>\n",
       "      <td>One Star</td>\n",
       "      <td>1413676800</td>\n",
       "      <td>NaN</td>\n",
       "      <td>{'Format:': ' Video Game'}</td>\n",
       "      <td>NaN</td>\n",
       "    </tr>\n",
       "    <tr>\n",
       "      <th>3</th>\n",
       "      <td>1.0</td>\n",
       "      <td>True</td>\n",
       "      <td>09 6, 2015</td>\n",
       "      <td>A19E85RLQCAMI1</td>\n",
       "      <td>B00NASF4MS</td>\n",
       "      <td>Joe</td>\n",
       "      <td>Really not worth the money to buy this game on PS4 unless it becomes $10.... don't make the mistake I made.</td>\n",
       "      <td>Really not worth the money to buy this game on ...</td>\n",
       "      <td>1441497600</td>\n",
       "      <td>2</td>\n",
       "      <td>{'Format:': ' Video Game'}</td>\n",
       "      <td>NaN</td>\n",
       "    </tr>\n",
       "    <tr>\n",
       "      <th>4</th>\n",
       "      <td>1.0</td>\n",
       "      <td>False</td>\n",
       "      <td>05 28, 2008</td>\n",
       "      <td>AEMQKS13WC4D2</td>\n",
       "      <td>B00140P9BA</td>\n",
       "      <td>Craig</td>\n",
       "      <td>They need to eliminate the Securom. I purchased Mass Effect as a digital download hoping that the faulty disc protection software would not be on that version, however it seems the Securom is on all versions. Now every time I log on to play, it's hit or miss- sometimes an error pops up stating \"a required security module could not be activated\", and sometimes it works. It's like pulling a handle on a slot machine to see if Securom will allow you play or not. Ridiculous for a game I spent $50 on. There's a whole thread about this issue on the official forums. Don't have this issue with other games that use less intrusive copy protection methods.</td>\n",
       "      <td>Securom can ruin a great game</td>\n",
       "      <td>1211932800</td>\n",
       "      <td>55</td>\n",
       "      <td>{'Format:': ' DVD-ROM'}</td>\n",
       "      <td>NaN</td>\n",
       "    </tr>\n",
       "  </tbody>\n",
       "</table>\n",
       "</div>"
      ],
      "text/plain": [
       "   overall  verified   reviewTime      reviewerID        asin   reviewerName  \\\n",
       "0      1.0      True  11 30, 2015  A3AC92K59QLYR8  B00503E8S2            ben   \n",
       "1      1.0     False  05 19, 2012  A334LHR8DWARY8  B00178630A       Xenocide   \n",
       "2      1.0      True  10 19, 2014  A28982ODE7ZGVP  B001AWIP7M  Eric Frykberg   \n",
       "3      1.0      True   09 6, 2015  A19E85RLQCAMI1  B00NASF4MS            Joe   \n",
       "4      1.0     False  05 28, 2008   AEMQKS13WC4D2  B00140P9BA          Craig   \n",
       "\n",
       "                                                                                                                                                                                                                                                                                                                                                                                                                                                                                                                                                                                                                                                                                                                                                                                                                                                                                                                                                                                                                                                                                                                                                                                                                                                                                                                                                                                                                                                                                                                                                                                                                                                                                                                                                                                                                                                                                                                                                                                                                                                                                                                                                                                                                                                                                                                                                                                                                                                                                                                                                                                                                                                                                                                                                                                                                                                                                                                                                                                                                                                                                                                                                                                                                                                                                                                                                                   reviewText  \\\n",
       "0                                                                                                                                                                                                                                                                                                                                                                                                                                                                                                                                                                                                                                                                                                                                                                                                                                                                                                                                                                                                                                                                                                                                                                                                                                                                                                                                                                                                                                                                                                                                                                                                                                                                                                                                                                                                                                                                                                                                                                                                                                                                                                                                                                                                                                                                                                                                                                                                                                                                                                                                                                                                                                                                                                                                                                                                                                                                                                                                                                                                                                                                                                                                                                                                                                                                                                                                   Game freezes over and over its unplayable   \n",
       "1  I have no problem with needing to be online to play and have had no problems with stability since the first 2 days. This review ignores those issues.\\n\\nThe game itself is fun and addictive, but so is Din's Curse (which was programmed by one guy) and is more re-playble than Diablo 3. Hopefully Torchlight 2 will take the mantle of this genere from Blizzard. One reason all these games are fun is because they are all similar in atmosphere, gameplay and loot system. As a stand alone title, D3 would be 4 stars, maybe- but as a successor to Diablo 2, with all the man-power and resources Blizzard had including the beautiful skill tree system from D2... If I could go lower than 1, I would.\\n\\nWhy was Diablo 2 addictive? One big reason was farming gear- loading magic find amd finding a group for Hell runs, kind of like a drug. But why? For the millions of regular players it was in order to gear up their next specialized build. Everything was centered around unique builds that become somewhat cookie cutter if good. Players perfectly balancing point distributions in attributes and skills to make that personalized zealot or blizzard sorc. The quest for constant gear for new builds was what drove the desire to aquire it. Every major nerf patch was like a ladder reset (which D3 lacks). Even if they add another 5 classes, the problem of no variation or ability to make a custom character means no constant demand for anything but a few top level items.\\n\\nThis seems intentional to keep server use lighter between expansions as there really is little reason to play unless your into farming for only a handful of desired endgame items. Everything else can be gotten off the AH for little gold. Unless they introduce raids that give special gear or something that would make that game into an MMO, none of the desire to keep playing is there unless it's more of a social hang-out.\\n\\nSo, where did all the money and time go? The skills are fun, as are the runes- but also very simplistic. The cut-screens are nicely done but, in this genere, most people watch them once or twice at most, they are basically useless. I'd hate to think all the resources went there when the cut-screens are movie quality where you see real looking people crying and giving decent lines, but then we shift back to real game-play and the next line from the smith who just killed his wife after she vomited and changed into an undead creature is a comically gruff and bemused... \"If you see my idiot apprentice out there, tell him to get back...\"\\n\\nThe same companion dialogue reapeated over and over and often when fighting so it's annoying. It's all just randomized for the most part. So, your talking to your companions in a casual way about something trivial while getting killed by a boss. Poor execution of useless content. It happens often as well.\\n\\nIt is just sad to see no ability to customize a build, choose your dialogue or do much outside of what this game present to you. You essentially walking through how the developers envisioned you to progress- from what you say to what skills you want to master.\\n\\nIt's really sad to see how they dumbed this game down to the point where there is no ability to customize any aspect of your gameplay.   \n",
       "2                                                                                                                                                                                                                                                                                                                                                                                                                                                                                                                                                                                                                                                                                                                                                                                                                                                                                                                                                                                                                                                                                                                                                                                                                                                                                                                                                                                                                                                                                                                                                                                                                                                                                                                                                                                                                                                                                                                                                                                                                                                                                                                                                                                                                                                                                                                                                                                                                                                                                                                                                                                                                                                                                                                                                                                                                                                                                                                                                                                                                                                                                                                                                                                                                                                                                                                                                                    NOT GOOD   \n",
       "3                                                                                                                                                                                                                                                                                                                                                                                                                                                                                                                                                                                                                                                                                                                                                                                                                                                                                                                                                                                                                                                                                                                                                                                                                                                                                                                                                                                                                                                                                                                                                                                                                                                                                                                                                                                                                                                                                                                                                                                                                                                                                                                                                                                                                                                                                                                                                                                                                                                                                                                                                                                                                                                                                                                                                                                                                                                                                                                                                                                                                                                                                                                                                                                                                                                                 Really not worth the money to buy this game on PS4 unless it becomes $10.... don't make the mistake I made.   \n",
       "4                                                                                                                                                                                                                                                                                                                                                                                                                                                                                                                                                                                                                                                                                                                                                                                                                                                                                                                                                                                                                                                                                                                                                                                                                                                                                                                                                                                                                                                                                                                                                                                                                                                                                                                                                                                                                                                                                                                                                                                                                                                                                                                                                                                                                                                                                                                                                                                                                                                                                                                                                                                                                                                                                                They need to eliminate the Securom. I purchased Mass Effect as a digital download hoping that the faulty disc protection software would not be on that version, however it seems the Securom is on all versions. Now every time I log on to play, it's hit or miss- sometimes an error pops up stating \"a required security module could not be activated\", and sometimes it works. It's like pulling a handle on a slot machine to see if Securom will allow you play or not. Ridiculous for a game I spent $50 on. There's a whole thread about this issue on the official forums. Don't have this issue with other games that use less intrusive copy protection methods.   \n",
       "\n",
       "                                                                       summary  \\\n",
       "0                                                         it just doesn't work   \n",
       "1  The only real way to show Blizzard our feelings is through Ultimate ratings   \n",
       "2                                                                     One Star   \n",
       "3                           Really not worth the money to buy this game on ...   \n",
       "4                                                Securom can ruin a great game   \n",
       "\n",
       "   unixReviewTime vote                          style image  \n",
       "0      1448841600  NaN     {'Format:': ' Video Game'}   NaN  \n",
       "1      1337385600   23  {'Format:': ' Computer Game'}   NaN  \n",
       "2      1413676800  NaN     {'Format:': ' Video Game'}   NaN  \n",
       "3      1441497600    2     {'Format:': ' Video Game'}   NaN  \n",
       "4      1211932800   55        {'Format:': ' DVD-ROM'}   NaN  "
      ]
     },
     "execution_count": 6,
     "metadata": {},
     "output_type": "execute_result"
    }
   ],
   "source": [
    "reviews.head()"
   ]
  },
  {
   "cell_type": "code",
   "execution_count": 7,
   "metadata": {},
   "outputs": [],
   "source": [
    "reviews.dropna(subset=['reviewText'], inplace=True)"
   ]
  },
  {
   "cell_type": "code",
   "execution_count": 8,
   "metadata": {},
   "outputs": [
    {
     "data": {
      "text/plain": [
       "(4499, 12)"
      ]
     },
     "execution_count": 8,
     "metadata": {},
     "output_type": "execute_result"
    }
   ],
   "source": [
    "reviews.shape"
   ]
  },
  {
   "cell_type": "code",
   "execution_count": 9,
   "metadata": {},
   "outputs": [],
   "source": [
    "reviews['swn_score'] = reviews['reviewText'].apply(lambda text : get_sentiment_score(text))"
   ]
  },
  {
   "cell_type": "code",
   "execution_count": 10,
   "metadata": {},
   "outputs": [
    {
     "data": {
      "text/html": [
       "<div>\n",
       "<style scoped>\n",
       "    .dataframe tbody tr th:only-of-type {\n",
       "        vertical-align: middle;\n",
       "    }\n",
       "\n",
       "    .dataframe tbody tr th {\n",
       "        vertical-align: top;\n",
       "    }\n",
       "\n",
       "    .dataframe thead th {\n",
       "        text-align: right;\n",
       "    }\n",
       "</style>\n",
       "<table border=\"1\" class=\"dataframe\">\n",
       "  <thead>\n",
       "    <tr style=\"text-align: right;\">\n",
       "      <th></th>\n",
       "      <th>reviewText</th>\n",
       "      <th>swn_score</th>\n",
       "    </tr>\n",
       "  </thead>\n",
       "  <tbody>\n",
       "    <tr>\n",
       "      <th>1086</th>\n",
       "      <td>Anything with Activision involved will equal a piece of sh! t. Bungie should stick to making Halo because that's all they're good for. Game was repetitive mission wise. Story was disappointing because you develop any emotional connection to the story at all. You're just there to shoot enemies that re spawn in the same area and work your ass off to find \"rare\" items which 1/10 chances you'll actually find any. I'll give it 1 star because despite the crap Bungie had to offer, there's still some kind of enjoyment to be in the game. Shame that this crappy game is INCOMPLETE. So if you actually bought the game along with the season pass, that is actually the whole game right there. This game alone  is just some money magnet that in the end will leave you unsatisfied.</td>\n",
       "      <td>1.333333</td>\n",
       "    </tr>\n",
       "    <tr>\n",
       "      <th>2</th>\n",
       "      <td>NOT GOOD</td>\n",
       "      <td>6.250000</td>\n",
       "    </tr>\n",
       "  </tbody>\n",
       "</table>\n",
       "</div>"
      ],
      "text/plain": [
       "                                                                                                                                                                                                                                                                                                                                                                                                                                                                                                                                                                                                                                                                                                                                                                                                reviewText  \\\n",
       "1086  Anything with Activision involved will equal a piece of sh! t. Bungie should stick to making Halo because that's all they're good for. Game was repetitive mission wise. Story was disappointing because you develop any emotional connection to the story at all. You're just there to shoot enemies that re spawn in the same area and work your ass off to find \"rare\" items which 1/10 chances you'll actually find any. I'll give it 1 star because despite the crap Bungie had to offer, there's still some kind of enjoyment to be in the game. Shame that this crappy game is INCOMPLETE. So if you actually bought the game along with the season pass, that is actually the whole game right there. This game alone  is just some money magnet that in the end will leave you unsatisfied.   \n",
       "2                                                                                                                                                                                                                                                                                                                                                                                                                                                                                                                                                                                                                                                                                                                                                                                                 NOT GOOD   \n",
       "\n",
       "      swn_score  \n",
       "1086   1.333333  \n",
       "2      6.250000  "
      ]
     },
     "execution_count": 10,
     "metadata": {},
     "output_type": "execute_result"
    }
   ],
   "source": [
    "reviews[['reviewText','swn_score']].sample(2)"
   ]
  },
  {
   "cell_type": "code",
   "execution_count": 11,
   "metadata": {},
   "outputs": [
    {
     "data": {
      "text/html": [
       "<div>\n",
       "<style scoped>\n",
       "    .dataframe tbody tr th:only-of-type {\n",
       "        vertical-align: middle;\n",
       "    }\n",
       "\n",
       "    .dataframe tbody tr th {\n",
       "        vertical-align: top;\n",
       "    }\n",
       "\n",
       "    .dataframe thead th {\n",
       "        text-align: right;\n",
       "    }\n",
       "</style>\n",
       "<table border=\"1\" class=\"dataframe\">\n",
       "  <thead>\n",
       "    <tr style=\"text-align: right;\">\n",
       "      <th></th>\n",
       "      <th>reviewText</th>\n",
       "      <th>swn_score</th>\n",
       "    </tr>\n",
       "  </thead>\n",
       "  <tbody>\n",
       "    <tr>\n",
       "      <th>2800</th>\n",
       "      <td>I get it, you want the most space possible for you Vita but the memory card prices are outrageous. Well, there is not much you can do about that. This card retails for $100. Ouch.\\n\\nI have heard about deals where people found it for $70, but I have never seen those (and boy have I looked).\\nSo this one seems to be the best deal out there. $88 when I bought it (it seems to fluctuate up and down about $1-2).\\nThis is the best deal I could find, and it is an everyday price. Not going to save the planet or anything, but it is $10 well saved.\\n\\nThe card works fine. I didn't expect otherwise.\\nI am happy that I got the 32GB because I won't have to worry about getting another card later. (And the cost of 2 cards is practically just as expensive but without the convenience of it being a single card). I have a ton of games downloaded thanks to PS+ and I am good for a while.\\nI know that I would be good with 16GB, but it wouldn't be future proof. This is the way to go, I just had to save a bit of money to do it.</td>\n",
       "      <td>4.023605</td>\n",
       "    </tr>\n",
       "    <tr>\n",
       "      <th>2530</th>\n",
       "      <td>do not play it enought to give a review. that is all I can say at this time - thank you I will se what I can do at a later time and thank you for the opportunity to review</td>\n",
       "      <td>-0.312500</td>\n",
       "    </tr>\n",
       "  </tbody>\n",
       "</table>\n",
       "</div>"
      ],
      "text/plain": [
       "                                                                                                                                                                                                                                                                                                                                                                                                                                                                                                                                                                                                                                                                                                                                                                                                                                                                                                                                                                                                                                                       reviewText  \\\n",
       "2800  I get it, you want the most space possible for you Vita but the memory card prices are outrageous. Well, there is not much you can do about that. This card retails for $100. Ouch.\\n\\nI have heard about deals where people found it for $70, but I have never seen those (and boy have I looked).\\nSo this one seems to be the best deal out there. $88 when I bought it (it seems to fluctuate up and down about $1-2).\\nThis is the best deal I could find, and it is an everyday price. Not going to save the planet or anything, but it is $10 well saved.\\n\\nThe card works fine. I didn't expect otherwise.\\nI am happy that I got the 32GB because I won't have to worry about getting another card later. (And the cost of 2 cards is practically just as expensive but without the convenience of it being a single card). I have a ton of games downloaded thanks to PS+ and I am good for a while.\\nI know that I would be good with 16GB, but it wouldn't be future proof. This is the way to go, I just had to save a bit of money to do it.   \n",
       "2530                                                                                                                                                                                                                                                                                                                                                                                                                                                                                                                                                                                                                                                                                                                                                                                                                                                                                  do not play it enought to give a review. that is all I can say at this time - thank you I will se what I can do at a later time and thank you for the opportunity to review   \n",
       "\n",
       "      swn_score  \n",
       "2800   4.023605  \n",
       "2530  -0.312500  "
      ]
     },
     "execution_count": 11,
     "metadata": {},
     "output_type": "execute_result"
    }
   ],
   "source": [
    "reviews[['reviewText','swn_score']].sample(2)"
   ]
  },
  {
   "cell_type": "code",
   "execution_count": 12,
   "metadata": {},
   "outputs": [
    {
     "data": {
      "image/png": "[encoded data removed]",
      "text/plain": [
       "<Figure size 1440x720 with 1 Axes>"
      ]
     },
     "metadata": {
      "needs_background": "light"
     },
     "output_type": "display_data"
    }
   ],
   "source": [
    "fig , ax = plt.subplots(nrows=1, ncols=1, figsize=(20,10))\n",
    "sns.histplot(x='swn_score', data=reviews.query(\"swn_score < 8 and swn_score > -8\"), ax=ax)\n",
    "plt.show()"
   ]
  },
  {
   "cell_type": "code",
   "execution_count": 13,
   "metadata": {},
   "outputs": [],
   "source": [
    "reviews['swn_sentiment'] = reviews['swn_score'].apply(lambda x: \"positive\" if x>1 else (\"negative\" if x<0.5 else \"neutral\"))"
   ]
  },
  {
   "cell_type": "code",
   "execution_count": 14,
   "metadata": {},
   "outputs": [
    {
     "data": {
      "text/plain": [
       "positive    2199\n",
       "negative    1823\n",
       "neutral      477\n",
       "Name: swn_sentiment, dtype: int64"
      ]
     },
     "execution_count": 14,
     "metadata": {},
     "output_type": "execute_result"
    }
   ],
   "source": [
    "reviews['swn_sentiment'].value_counts(dropna=False)"
   ]
  },
  {
   "cell_type": "code",
   "execution_count": 15,
   "metadata": {},
   "outputs": [
    {
     "data": {
      "text/plain": [
       "<AxesSubplot:xlabel='overall', ylabel='count'>"
      ]
     },
     "execution_count": 15,
     "metadata": {},
     "output_type": "execute_result"
    },
    {
     "data": {
      "image/png": "[encoded data removed]",
      "text/plain": [
       "<Figure size 432x288 with 1 Axes>"
      ]
     },
     "metadata": {
      "needs_background": "light"
     },
     "output_type": "display_data"
    }
   ],
   "source": [
    "sns.countplot(x='overall', hue='swn_sentiment' ,data = reviews)"
   ]
  },
  {
   "cell_type": "code",
   "execution_count": 16,
   "metadata": {},
   "outputs": [
    {
     "data": {
      "text/plain": [
       "<AxesSubplot:xlabel='swn_sentiment', ylabel='overall'>"
      ]
     },
     "execution_count": 16,
     "metadata": {},
     "output_type": "execute_result"
    },
    {
     "data": {
      "image/png": "[encoded data removed]",
      "text/plain": [
       "<Figure size 432x288 with 1 Axes>"
      ]
     },
     "metadata": {
      "needs_background": "light"
     },
     "output_type": "display_data"
    }
   ],
   "source": [
    "sns.boxenplot(x='swn_sentiment', y='overall', data = reviews)"
   ]
  },
  {
   "cell_type": "code",
   "execution_count": 17,
   "metadata": {},
   "outputs": [
    {
     "data": {
      "image/png": "[encoded data removed]",
      "text/plain": [
       "<Figure size 864x504 with 1 Axes>"
      ]
     },
     "metadata": {
      "needs_background": "light"
     },
     "output_type": "display_data"
    }
   ],
   "source": [
    "fig, ax = plt.subplots(nrows=1, ncols=1, figsize = (12,7))\n",
    "sns.boxenplot(x='overall', y='swn_score', data = reviews, ax=ax)\n",
    "plt.show()"
   ]
  },
  {
   "cell_type": "code",
   "execution_count": 18,
   "metadata": {},
   "outputs": [],
   "source": [
    "reviews['true_sentiment'] = \\\n",
    "    reviews['overall'].apply(lambda x: \"positive\" if x>=4 else (\"neutral\" if x==3 else \"negative\"))"
   ]
  },
  {
   "cell_type": "code",
   "execution_count": 19,
   "metadata": {},
   "outputs": [],
   "source": [
    "y_swn_pred, y_true = reviews['swn_sentiment'].tolist(), reviews['true_sentiment'].tolist()"
   ]
  },
  {
   "cell_type": "code",
   "execution_count": 20,
   "metadata": {},
   "outputs": [
    {
     "data": {
      "text/plain": [
       "(4499, 4499)"
      ]
     },
     "execution_count": 20,
     "metadata": {},
     "output_type": "execute_result"
    }
   ],
   "source": [
    "len(y_swn_pred), len(y_true)"
   ]
  },
  {
   "cell_type": "code",
   "execution_count": 21,
   "metadata": {},
   "outputs": [],
   "source": [
    "from sklearn.metrics import confusion_matrix\n",
    "cm = confusion_matrix(y_true, y_swn_pred)"
   ]
  },
  {
   "cell_type": "code",
   "execution_count": 22,
   "metadata": {},
   "outputs": [
    {
     "data": {
      "image/png": "[encoded data removed]",
      "text/plain": [
       "<Figure size 576x432 with 2 Axes>"
      ]
     },
     "metadata": {
      "needs_background": "light"
     },
     "output_type": "display_data"
    }
   ],
   "source": [
    "fig , ax = plt.subplots(nrows=1, ncols=1, figsize=(8,6))\n",
    "sns.heatmap(cm, cmap='viridis_r', annot=True, fmt='d', square=True, ax=ax)\n",
    "ax.set_xlabel('Predicted')\n",
    "ax.set_ylabel('True');"
   ]
  },
  {
   "cell_type": "markdown",
   "metadata": {},
   "source": [
    "## Performance Assessment"
   ]
  },
  {
   "cell_type": "markdown",
   "metadata": {},
   "source": [
    "### Negative Sentiment Prediction Assessment"
   ]
  },
  {
   "cell_type": "code",
   "execution_count": 23,
   "metadata": {},
   "outputs": [],
   "source": [
    "tp, tn, fp, fn = 1088, 70+242+142+1310, 265+647, 188+547"
   ]
  },
  {
   "cell_type": "code",
   "execution_count": 24,
   "metadata": {},
   "outputs": [],
   "source": [
    "recall = tp / (tp+fn)\n",
    "specifity = tn / (tn+fp)\n",
    "precision = tp/(tp+fp)\n",
    "f1 = (2*tp) / (2*tp + fp + fn)"
   ]
  },
  {
   "cell_type": "code",
   "execution_count": 25,
   "metadata": {},
   "outputs": [
    {
     "name": "stdout",
     "output_type": "stream",
     "text": [
      "recall: 0.5968184311574328\n",
      "precission: 0.544\n",
      "f1 score: 0.5691865027465342\n"
     ]
    }
   ],
   "source": [
    "print(\"recall: {}\\nprecission: {}\\nf1 score: {}\".format(recall, precision, f1))"
   ]
  },
  {
   "cell_type": "markdown",
   "metadata": {},
   "source": [
    "### Positive Sentiment Prediction Assessment"
   ]
  },
  {
   "cell_type": "code",
   "execution_count": 26,
   "metadata": {},
   "outputs": [],
   "source": [
    "tp, tn, fp, fn = 1310, 1088+265+70+188, 242+647, 142+547"
   ]
  },
  {
   "cell_type": "code",
   "execution_count": 27,
   "metadata": {},
   "outputs": [],
   "source": [
    "recall = tp / (tp+fn)\n",
    "specifity = tn / (tn+fp)\n",
    "precision = tp/(tp+fp)\n",
    "f1 = (2*tp) / (2*tp + fp + fn)"
   ]
  },
  {
   "cell_type": "code",
   "execution_count": 28,
   "metadata": {},
   "outputs": [
    {
     "name": "stdout",
     "output_type": "stream",
     "text": [
      "recall: 0.655327663831916\n",
      "precission: 0.5957253296953161\n",
      "f1 score: 0.6241067174845164\n"
     ]
    }
   ],
   "source": [
    "print(\"recall: {}\\nprecission: {}\\nf1 score: {}\".format(recall, precision, f1))"
   ]
  },
  {
   "cell_type": "markdown",
   "metadata": {},
   "source": [
    "## Sentiment Scoring Model Using NLTK Opinion Lexicon"
   ]
  },
  {
   "cell_type": "code",
   "execution_count": 29,
   "metadata": {},
   "outputs": [],
   "source": [
    "import nltk\n",
    "from nltk.corpus import opinion_lexicon\n",
    "from nltk.tokenize import word_tokenize, sent_tokenize"
   ]
  },
  {
   "cell_type": "code",
   "execution_count": 30,
   "metadata": {},
   "outputs": [
    {
     "name": "stderr",
     "output_type": "stream",
     "text": [
      "[nltk_data] Downloading package opinion_lexicon to\n",
      "[nltk_data]     /Users/koosha.tahmasebipour/nltk_data...\n",
      "[nltk_data]   Package opinion_lexicon is already up-to-date!\n"
     ]
    },
    {
     "data": {
      "text/plain": [
       "True"
      ]
     },
     "execution_count": 30,
     "metadata": {},
     "output_type": "execute_result"
    }
   ],
   "source": [
    "nltk.download(\"opinion_lexicon\")"
   ]
  },
  {
   "cell_type": "code",
   "execution_count": 31,
   "metadata": {},
   "outputs": [],
   "source": [
    "pos_words = list(opinion_lexicon.positive())\n",
    "neg_words = list(opinion_lexicon.negative())"
   ]
  },
  {
   "cell_type": "code",
   "execution_count": 32,
   "metadata": {},
   "outputs": [],
   "source": [
    "def get_sentiment_score_oplex(text):\n",
    "    \n",
    "    \"\"\"\n",
    "        This method returns the sentiment score of a given text using nltk opinion lexicon.\n",
    "        input: text\n",
    "        output: numeric (double) score, >0 means positive sentiment and <0 means negative sentiment.\n",
    "    \"\"\"    \n",
    "    total_score = 0\n",
    "\n",
    "    raw_sentences = sent_tokenize(text)\n",
    "    \n",
    "    for sentence in raw_sentences:\n",
    "\n",
    "        sent_score = 0     \n",
    "        sentence = str(sentence)\n",
    "        sentence = sentence.replace(\"<br />\",\" \").translate(str.maketrans('','',punctuation)).lower()\n",
    "        tokens = TreebankWordTokenizer().tokenize(text)\n",
    "        for token in tokens:\n",
    "            sent_score = sent_score + 1 if token in pos_words else (sent_score - 1 if token in neg_words else sent_score)\n",
    "        total_score = total_score + (sent_score / len(tokens))\n",
    "\n",
    "    \n",
    "    return total_score"
   ]
  },
  {
   "cell_type": "code",
   "execution_count": 33,
   "metadata": {},
   "outputs": [],
   "source": [
    "reviews['oplex_sentiment_score'] = reviews['reviewText'].apply(lambda x: get_sentiment_score_oplex(x))"
   ]
  },
  {
   "cell_type": "code",
   "execution_count": 34,
   "metadata": {},
   "outputs": [
    {
     "data": {
      "image/png": "[encoded data removed]",
      "text/plain": [
       "<Figure size 1440x720 with 1 Axes>"
      ]
     },
     "metadata": {
      "needs_background": "light"
     },
     "output_type": "display_data"
    }
   ],
   "source": [
    "fig , ax = plt.subplots(nrows=1, ncols=1, figsize=(20,10))\n",
    "sns.histplot(x='oplex_sentiment_score',\\\n",
    "             data=reviews.query(\"oplex_sentiment_score < 1 and oplex_sentiment_score>-1\"), ax=ax)\n",
    "plt.show()"
   ]
  },
  {
   "cell_type": "code",
   "execution_count": 35,
   "metadata": {},
   "outputs": [],
   "source": [
    "reviews['oplex_sentiment'] = \\\n",
    "    reviews['oplex_sentiment_score'].apply(lambda x: \"positive\" if x>0.1 else (\"negative\" if x<0 else \"neutral\"))"
   ]
  },
  {
   "cell_type": "code",
   "execution_count": 36,
   "metadata": {},
   "outputs": [
    {
     "data": {
      "text/plain": [
       "positive    1875\n",
       "neutral     1582\n",
       "negative    1042\n",
       "Name: oplex_sentiment, dtype: int64"
      ]
     },
     "execution_count": 36,
     "metadata": {},
     "output_type": "execute_result"
    }
   ],
   "source": [
    "reviews['oplex_sentiment'].value_counts(dropna=False)"
   ]
  },
  {
   "cell_type": "code",
   "execution_count": 37,
   "metadata": {},
   "outputs": [
    {
     "data": {
      "text/plain": [
       "<AxesSubplot:xlabel='overall', ylabel='count'>"
      ]
     },
     "execution_count": 37,
     "metadata": {},
     "output_type": "execute_result"
    },
    {
     "data": {
      "image/png": "[encoded data removed]",
      "text/plain": [
       "<Figure size 432x288 with 1 Axes>"
      ]
     },
     "metadata": {
      "needs_background": "light"
     },
     "output_type": "display_data"
    }
   ],
   "source": [
    "sns.countplot(x='overall', hue='oplex_sentiment' ,data = reviews)"
   ]
  },
  {
   "cell_type": "code",
   "execution_count": 38,
   "metadata": {},
   "outputs": [
    {
     "data": {
      "text/plain": [
       "<AxesSubplot:xlabel='oplex_sentiment', ylabel='overall'>"
      ]
     },
     "execution_count": 38,
     "metadata": {},
     "output_type": "execute_result"
    },
    {
     "data": {
      "image/png": "[encoded data removed]",
      "text/plain": [
       "<Figure size 432x288 with 1 Axes>"
      ]
     },
     "metadata": {
      "needs_background": "light"
     },
     "output_type": "display_data"
    }
   ],
   "source": [
    "sns.boxenplot(x='oplex_sentiment', y='overall', data = reviews)"
   ]
  },
  {
   "cell_type": "code",
   "execution_count": 39,
   "metadata": {},
   "outputs": [
    {
     "data": {
      "image/png": "[encoded data removed]",
      "text/plain": [
       "<Figure size 864x504 with 1 Axes>"
      ]
     },
     "metadata": {
      "needs_background": "light"
     },
     "output_type": "display_data"
    }
   ],
   "source": [
    "fig, ax = plt.subplots(nrows=1, ncols=1, figsize = (12,7))\n",
    "sns.boxenplot(x='overall', y='oplex_sentiment_score', data = reviews, ax=ax)\n",
    "plt.show()"
   ]
  },
  {
   "cell_type": "code",
   "execution_count": 40,
   "metadata": {},
   "outputs": [],
   "source": [
    "y_oplex_pred = reviews['oplex_sentiment'].tolist()"
   ]
  },
  {
   "cell_type": "code",
   "execution_count": 41,
   "metadata": {},
   "outputs": [],
   "source": [
    "oplex_cm = confusion_matrix(y_true, y_oplex_pred)"
   ]
  },
  {
   "cell_type": "code",
   "execution_count": 42,
   "metadata": {},
   "outputs": [
    {
     "data": {
      "image/png": "[encoded data removed]",
      "text/plain": [
       "<Figure size 576x432 with 2 Axes>"
      ]
     },
     "metadata": {
      "needs_background": "light"
     },
     "output_type": "display_data"
    }
   ],
   "source": [
    "fig , ax = plt.subplots(nrows=1, ncols=1, figsize=(8,6))\n",
    "sns.heatmap(oplex_cm, cmap='viridis_r', annot=True, fmt='d', square=True, ax=ax)\n",
    "ax.set_xlabel('Predicted')\n",
    "ax.set_ylabel('True');"
   ]
  },
  {
   "cell_type": "code",
   "execution_count": 43,
   "metadata": {},
   "outputs": [],
   "source": [
    "oplex_cm = list(oplex_cm.ravel())"
   ]
  },
  {
   "cell_type": "code",
   "execution_count": 44,
   "metadata": {},
   "outputs": [
    {
     "data": {
      "text/plain": [
       "[804, 701, 495, 106, 195, 199, 132, 686, 1181]"
      ]
     },
     "execution_count": 44,
     "metadata": {},
     "output_type": "execute_result"
    }
   ],
   "source": [
    "oplex_cm"
   ]
  },
  {
   "cell_type": "markdown",
   "metadata": {},
   "source": [
    "### Negative Label Assessment"
   ]
  },
  {
   "cell_type": "code",
   "execution_count": 47,
   "metadata": {},
   "outputs": [],
   "source": [
    "tp, tn, fp, fn = 804, 195+199+686+1181, 106+132, 701+495"
   ]
  },
  {
   "cell_type": "code",
   "execution_count": 48,
   "metadata": {},
   "outputs": [
    {
     "name": "stdout",
     "output_type": "stream",
     "text": [
      "recall: 0.402\n",
      "precission: 0.7715930902111324\n",
      "f1 score: 0.5285996055226825\n"
     ]
    }
   ],
   "source": [
    "recall = tp / (tp+fn)\n",
    "specifity = tn / (tn+fp)\n",
    "precision = tp/(tp+fp)\n",
    "f1 = (2*tp) / (2*tp + fp + fn)\n",
    "\n",
    "print(\"recall: {}\\nprecission: {}\\nf1 score: {}\".format(recall, precision, f1))"
   ]
  },
  {
   "cell_type": "markdown",
   "metadata": {},
   "source": [
    "### Positive Label Assessment"
   ]
  },
  {
   "cell_type": "code",
   "execution_count": 49,
   "metadata": {},
   "outputs": [],
   "source": [
    "tp, tn, fp, fn = 1181, 804+701+106+195, 495+199, 132+686"
   ]
  },
  {
   "cell_type": "code",
   "execution_count": 50,
   "metadata": {},
   "outputs": [
    {
     "name": "stdout",
     "output_type": "stream",
     "text": [
      "recall: 0.5907953976988495\n",
      "precission: 0.6298666666666667\n",
      "f1 score: 0.6097057305110997\n"
     ]
    }
   ],
   "source": [
    "recall = tp / (tp+fn)\n",
    "specifity = tn / (tn+fp)\n",
    "precision = tp/(tp+fp)\n",
    "f1 = (2*tp) / (2*tp + fp + fn)\n",
    "\n",
    "print(\"recall: {}\\nprecission: {}\\nf1 score: {}\".format(recall, precision, f1))"
   ]
  },
  {
   "cell_type": "code",
   "execution_count": null,
   "metadata": {},
   "outputs": [],
   "source": []
  }
 ],
 "metadata": {
  "kernelspec": {
   "display_name": "Python 3",
   "language": "python",
   "name": "python3"
  },
  "language_info": {
   "codemirror_mode": {
    "name": "ipython",
    "version": 3
   },
   "file_extension": ".py",
   "mimetype": "text/x-python",
   "name": "python",
   "nbconvert_exporter": "python",
   "pygments_lexer": "ipython3",
   "version": "3.6.12"
  }
 },
 "nbformat": 4,
 "nbformat_minor": 4
}
