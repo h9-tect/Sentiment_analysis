{
 "cells": [
  {
   "cell_type": "markdown",
   "metadata": {},
   "source": [
    "# Creating a Dictionary-based Sentiment Analyzer"
   ]
  },
  {
   "cell_type": "code",
   "execution_count": 1,
   "metadata": {},
   "outputs": [],
   "source": [
    "import pandas as pd\n",
    "import nltk\n",
    "from IPython.display import display\n",
    "pd.set_option('display.max_columns', None)"
   ]
  },
  {
   "cell_type": "markdown",
   "metadata": {},
   "source": [
    "### Step 1: Loading in the small_corpus .csv file created in the \"creating_dataset\" milestone."
   ]
  },
  {
   "cell_type": "code",
   "execution_count": 2,
   "metadata": {},
   "outputs": [],
   "source": [
    "reviews = pd.read_csv(\"../data/small_corpus.csv\")"
   ]
  },
  {
   "cell_type": "code",
   "execution_count": 3,
   "metadata": {},
   "outputs": [
    {
     "data": {
      "text/html": [
       "<div>\n",
       "<style scoped>\n",
       "    .dataframe tbody tr th:only-of-type {\n",
       "        vertical-align: middle;\n",
       "    }\n",
       "\n",
       "    .dataframe tbody tr th {\n",
       "        vertical-align: top;\n",
       "    }\n",
       "\n",
       "    .dataframe thead th {\n",
       "        text-align: right;\n",
       "    }\n",
       "</style>\n",
       "<table border=\"1\" class=\"dataframe\">\n",
       "  <thead>\n",
       "    <tr style=\"text-align: right;\">\n",
       "      <th></th>\n",
       "      <th>overall</th>\n",
       "      <th>verified</th>\n",
       "      <th>reviewTime</th>\n",
       "      <th>reviewerID</th>\n",
       "      <th>asin</th>\n",
       "      <th>reviewerName</th>\n",
       "      <th>reviewText</th>\n",
       "      <th>summary</th>\n",
       "      <th>unixReviewTime</th>\n",
       "      <th>vote</th>\n",
       "      <th>style</th>\n",
       "      <th>image</th>\n",
       "    </tr>\n",
       "  </thead>\n",
       "  <tbody>\n",
       "    <tr>\n",
       "      <th>0</th>\n",
       "      <td>1.0</td>\n",
       "      <td>True</td>\n",
       "      <td>11 30, 2015</td>\n",
       "      <td>A3AC92K59QLYR8</td>\n",
       "      <td>B00503E8S2</td>\n",
       "      <td>ben</td>\n",
       "      <td>Game freezes over and over its unplayable</td>\n",
       "      <td>it just doesn't work</td>\n",
       "      <td>1448841600</td>\n",
       "      <td>NaN</td>\n",
       "      <td>{'Format:': ' Video Game'}</td>\n",
       "      <td>NaN</td>\n",
       "    </tr>\n",
       "    <tr>\n",
       "      <th>1</th>\n",
       "      <td>1.0</td>\n",
       "      <td>False</td>\n",
       "      <td>05 19, 2012</td>\n",
       "      <td>A334LHR8DWARY8</td>\n",
       "      <td>B00178630A</td>\n",
       "      <td>Xenocide</td>\n",
       "      <td>I have no problem with needing to be online to...</td>\n",
       "      <td>The only real way to show Blizzard our feeling...</td>\n",
       "      <td>1337385600</td>\n",
       "      <td>23</td>\n",
       "      <td>{'Format:': ' Computer Game'}</td>\n",
       "      <td>NaN</td>\n",
       "    </tr>\n",
       "    <tr>\n",
       "      <th>2</th>\n",
       "      <td>1.0</td>\n",
       "      <td>True</td>\n",
       "      <td>10 19, 2014</td>\n",
       "      <td>A28982ODE7ZGVP</td>\n",
       "      <td>B001AWIP7M</td>\n",
       "      <td>Eric Frykberg</td>\n",
       "      <td>NOT GOOD</td>\n",
       "      <td>One Star</td>\n",
       "      <td>1413676800</td>\n",
       "      <td>NaN</td>\n",
       "      <td>{'Format:': ' Video Game'}</td>\n",
       "      <td>NaN</td>\n",
       "    </tr>\n",
       "    <tr>\n",
       "      <th>3</th>\n",
       "      <td>1.0</td>\n",
       "      <td>True</td>\n",
       "      <td>09 6, 2015</td>\n",
       "      <td>A19E85RLQCAMI1</td>\n",
       "      <td>B00NASF4MS</td>\n",
       "      <td>Joe</td>\n",
       "      <td>Really not worth the money to buy this game on...</td>\n",
       "      <td>Really not worth the money to buy this game on...</td>\n",
       "      <td>1441497600</td>\n",
       "      <td>2</td>\n",
       "      <td>{'Format:': ' Video Game'}</td>\n",
       "      <td>NaN</td>\n",
       "    </tr>\n",
       "    <tr>\n",
       "      <th>4</th>\n",
       "      <td>1.0</td>\n",
       "      <td>False</td>\n",
       "      <td>05 28, 2008</td>\n",
       "      <td>AEMQKS13WC4D2</td>\n",
       "      <td>B00140P9BA</td>\n",
       "      <td>Craig</td>\n",
       "      <td>They need to eliminate the Securom. I purchase...</td>\n",
       "      <td>Securom can ruin a great game</td>\n",
       "      <td>1211932800</td>\n",
       "      <td>55</td>\n",
       "      <td>{'Format:': ' DVD-ROM'}</td>\n",
       "      <td>NaN</td>\n",
       "    </tr>\n",
       "  </tbody>\n",
       "</table>\n",
       "</div>"
      ],
      "text/plain": [
       "   overall  verified   reviewTime      reviewerID        asin   reviewerName  \\\n",
       "0      1.0      True  11 30, 2015  A3AC92K59QLYR8  B00503E8S2            ben   \n",
       "1      1.0     False  05 19, 2012  A334LHR8DWARY8  B00178630A       Xenocide   \n",
       "2      1.0      True  10 19, 2014  A28982ODE7ZGVP  B001AWIP7M  Eric Frykberg   \n",
       "3      1.0      True   09 6, 2015  A19E85RLQCAMI1  B00NASF4MS            Joe   \n",
       "4      1.0     False  05 28, 2008   AEMQKS13WC4D2  B00140P9BA          Craig   \n",
       "\n",
       "                                          reviewText  \\\n",
       "0          Game freezes over and over its unplayable   \n",
       "1  I have no problem with needing to be online to...   \n",
       "2                                           NOT GOOD   \n",
       "3  Really not worth the money to buy this game on...   \n",
       "4  They need to eliminate the Securom. I purchase...   \n",
       "\n",
       "                                             summary  unixReviewTime vote  \\\n",
       "0                               it just doesn't work      1448841600  NaN   \n",
       "1  The only real way to show Blizzard our feeling...      1337385600   23   \n",
       "2                                           One Star      1413676800  NaN   \n",
       "3  Really not worth the money to buy this game on...      1441497600    2   \n",
       "4                      Securom can ruin a great game      1211932800   55   \n",
       "\n",
       "                           style image  \n",
       "0     {'Format:': ' Video Game'}   NaN  \n",
       "1  {'Format:': ' Computer Game'}   NaN  \n",
       "2     {'Format:': ' Video Game'}   NaN  \n",
       "3     {'Format:': ' Video Game'}   NaN  \n",
       "4        {'Format:': ' DVD-ROM'}   NaN  "
      ]
     },
     "execution_count": 3,
     "metadata": {},
     "output_type": "execute_result"
    }
   ],
   "source": [
    "reviews.head()"
   ]
  },
  {
   "cell_type": "markdown",
   "metadata": {},
   "source": [
    "### Step 2: Tokenizing the sentences and words of the reviews\n",
    "Here, We're going to test different versions of word tokenizer on reviews. We'll then decide which tokenizer might be better to use."
   ]
  },
  {
   "cell_type": "markdown",
   "metadata": {},
   "source": [
    "### Treebank Word Tokenizer"
   ]
  },
  {
   "cell_type": "code",
   "execution_count": 4,
   "metadata": {},
   "outputs": [],
   "source": [
    "from nltk.tokenize import TreebankWordTokenizer\n",
    "from string import punctuation\n",
    "import string"
   ]
  },
  {
   "cell_type": "code",
   "execution_count": 5,
   "metadata": {},
   "outputs": [],
   "source": [
    "tb_tokenizer = TreebankWordTokenizer()"
   ]
  },
  {
   "cell_type": "code",
   "execution_count": 6,
   "metadata": {},
   "outputs": [],
   "source": [
    "reviews[\"rev_text_lower\"] = reviews['reviewText'].apply(lambda rev: str(rev)\\\n",
    "                                                        .translate(str.maketrans('', '', punctuation))\\\n",
    "                                                        .replace(\"<br />\", \" \")\\\n",
    "                                                        .lower())"
   ]
  },
  {
   "cell_type": "code",
   "execution_count": 7,
   "metadata": {},
   "outputs": [
    {
     "data": {
      "text/html": [
       "<div>\n",
       "<style scoped>\n",
       "    .dataframe tbody tr th:only-of-type {\n",
       "        vertical-align: middle;\n",
       "    }\n",
       "\n",
       "    .dataframe tbody tr th {\n",
       "        vertical-align: top;\n",
       "    }\n",
       "\n",
       "    .dataframe thead th {\n",
       "        text-align: right;\n",
       "    }\n",
       "</style>\n",
       "<table border=\"1\" class=\"dataframe\">\n",
       "  <thead>\n",
       "    <tr style=\"text-align: right;\">\n",
       "      <th></th>\n",
       "      <th>reviewText</th>\n",
       "      <th>rev_text_lower</th>\n",
       "    </tr>\n",
       "  </thead>\n",
       "  <tbody>\n",
       "    <tr>\n",
       "      <th>2451</th>\n",
       "      <td>Front case of the game was kind of damaged.. B...</td>\n",
       "      <td>front case of the game was kind of damaged but...</td>\n",
       "    </tr>\n",
       "    <tr>\n",
       "      <th>2980</th>\n",
       "      <td>First off, this is a great gaming mouse for th...</td>\n",
       "      <td>first off this is a great gaming mouse for the...</td>\n",
       "    </tr>\n",
       "  </tbody>\n",
       "</table>\n",
       "</div>"
      ],
      "text/plain": [
       "                                             reviewText  \\\n",
       "2451  Front case of the game was kind of damaged.. B...   \n",
       "2980  First off, this is a great gaming mouse for th...   \n",
       "\n",
       "                                         rev_text_lower  \n",
       "2451  front case of the game was kind of damaged but...  \n",
       "2980  first off this is a great gaming mouse for the...  "
      ]
     },
     "execution_count": 7,
     "metadata": {},
     "output_type": "execute_result"
    }
   ],
   "source": [
    "reviews[['reviewText','rev_text_lower']].sample(2)"
   ]
  },
  {
   "cell_type": "code",
   "execution_count": 8,
   "metadata": {},
   "outputs": [],
   "source": [
    "reviews[\"tb_tokens\"] = reviews['rev_text_lower'].apply(lambda rev: tb_tokenizer.tokenize(str(rev)))"
   ]
  },
  {
   "cell_type": "code",
   "execution_count": 9,
   "metadata": {},
   "outputs": [],
   "source": [
    "pd.set_option('display.max_colwidth', None)"
   ]
  },
  {
   "cell_type": "code",
   "execution_count": 10,
   "metadata": {},
   "outputs": [
    {
     "data": {
      "text/html": [
       "<div>\n",
       "<style scoped>\n",
       "    .dataframe tbody tr th:only-of-type {\n",
       "        vertical-align: middle;\n",
       "    }\n",
       "\n",
       "    .dataframe tbody tr th {\n",
       "        vertical-align: top;\n",
       "    }\n",
       "\n",
       "    .dataframe thead th {\n",
       "        text-align: right;\n",
       "    }\n",
       "</style>\n",
       "<table border=\"1\" class=\"dataframe\">\n",
       "  <thead>\n",
       "    <tr style=\"text-align: right;\">\n",
       "      <th></th>\n",
       "      <th>reviewText</th>\n",
       "      <th>tb_tokens</th>\n",
       "    </tr>\n",
       "  </thead>\n",
       "  <tbody>\n",
       "    <tr>\n",
       "      <th>2355</th>\n",
       "      <td>First of all I would like to say this game is not nearly as difficult as many people claim. It is very unforgiving of mistakes, but most of the \"trash\" mobs are harder than the bosses.. Many areas/fights you just will die unless you read a guide or a player left a hint beforehand, because there is no other way to know how you need to prepare. The fights are fun, and normally being hit more than once without healing up means you die, but really once you figure out (or look up) what you need to do for the fight it is extremely easy. When people talk about how brutal it is all they really mean is having to fight your way back to the souls you lost or losing them forever if you die again.. not challenging, just unforgiving.\\n\\nThe tendency system is extremely annoying. To gain pure white character tendency you need to kill black phantoms. To kill black phantoms (other than players) you need pure black world tendency in that area. For that you need to kill yourself several times in body form (and resurrecting with a stone to kill your body again.) The most frustrating part of all this is if you log in the game while online it resets your world tendency, and can reset it randomly while your playing online.. Pure black is a bit easier, just need to kill some friendly npcs. Its like watching paint dry.. why people love doing this is beyond me.\\n\\nThere is also an area where you literally trudge around in water picking up loot with very little fighting at like 50% reduced walk speed and chug poison dispels since the water randomly poisons you for several hours.. seriously? Granted you can skip the loot and get through it all in under an hour.. but why have an area like that at all?</td>\n",
       "      <td>[first, of, all, i, would, like, to, say, this, game, is, not, nearly, as, difficult, as, many, people, claim, it, is, very, unforgiving, of, mistakes, but, most, of, the, trash, mobs, are, harder, than, the, bosses, many, areasfights, you, just, will, die, unless, you, read, a, guide, or, a, player, left, a, hint, beforehand, because, there, is, no, other, way, to, know, how, you, need, to, prepare, the, fights, are, fun, and, normally, being, hit, more, than, once, without, healing, up, means, you, die, but, really, once, you, figure, out, or, look, up, what, you, need, to, do, for, the, ...]</td>\n",
       "    </tr>\n",
       "    <tr>\n",
       "      <th>3269</th>\n",
       "      <td>awesome!</td>\n",
       "      <td>[awesome]</td>\n",
       "    </tr>\n",
       "    <tr>\n",
       "      <th>4006</th>\n",
       "      <td>I would recommend buying this It was just as advertised. Also it came on the time and day that I was told it would come</td>\n",
       "      <td>[i, would, recommend, buying, this, it, was, just, as, advertised, also, it, came, on, the, time, and, day, that, i, was, told, it, would, come]</td>\n",
       "    </tr>\n",
       "  </tbody>\n",
       "</table>\n",
       "</div>"
      ],
      "text/plain": [
       "                                                                                                                                                                                                                                                                                                                                                                                                                                                                                                                                                                                                                                                                                                                                                                                                                                                                                                                                                                                                                                                                                                                                                                                                                                                                                                                                                                                                                                                                                                                                                                                                                                                                                                                                                                 reviewText  \\\n",
       "2355  First of all I would like to say this game is not nearly as difficult as many people claim. It is very unforgiving of mistakes, but most of the \"trash\" mobs are harder than the bosses.. Many areas/fights you just will die unless you read a guide or a player left a hint beforehand, because there is no other way to know how you need to prepare. The fights are fun, and normally being hit more than once without healing up means you die, but really once you figure out (or look up) what you need to do for the fight it is extremely easy. When people talk about how brutal it is all they really mean is having to fight your way back to the souls you lost or losing them forever if you die again.. not challenging, just unforgiving.\\n\\nThe tendency system is extremely annoying. To gain pure white character tendency you need to kill black phantoms. To kill black phantoms (other than players) you need pure black world tendency in that area. For that you need to kill yourself several times in body form (and resurrecting with a stone to kill your body again.) The most frustrating part of all this is if you log in the game while online it resets your world tendency, and can reset it randomly while your playing online.. Pure black is a bit easier, just need to kill some friendly npcs. Its like watching paint dry.. why people love doing this is beyond me.\\n\\nThere is also an area where you literally trudge around in water picking up loot with very little fighting at like 50% reduced walk speed and chug poison dispels since the water randomly poisons you for several hours.. seriously? Granted you can skip the loot and get through it all in under an hour.. but why have an area like that at all?   \n",
       "3269                                                                                                                                                                                                                                                                                                                                                                                                                                                                                                                                                                                                                                                                                                                                                                                                                                                                                                                                                                                                                                                                                                                                                                                                                                                                                                                                                                                                                                                                                                                                                                                                                                                                                                                                                               awesome!   \n",
       "4006                                                                                                                                                                                                                                                                                                                                                                                                                                                                                                                                                                                                                                                                                                                                                                                                                                                                                                                                                                                                                                                                                                                                                                                                                                                                                                                                                                                                                                                                                                                                                                                                                                                I would recommend buying this It was just as advertised. Also it came on the time and day that I was told it would come   \n",
       "\n",
       "                                                                                                                                                                                                                                                                                                                                                                                                                                                                                                                                                                                                                      tb_tokens  \n",
       "2355  [first, of, all, i, would, like, to, say, this, game, is, not, nearly, as, difficult, as, many, people, claim, it, is, very, unforgiving, of, mistakes, but, most, of, the, trash, mobs, are, harder, than, the, bosses, many, areasfights, you, just, will, die, unless, you, read, a, guide, or, a, player, left, a, hint, beforehand, because, there, is, no, other, way, to, know, how, you, need, to, prepare, the, fights, are, fun, and, normally, being, hit, more, than, once, without, healing, up, means, you, die, but, really, once, you, figure, out, or, look, up, what, you, need, to, do, for, the, ...]  \n",
       "3269                                                                                                                                                                                                                                                                                                                                                                                                                                                                                                                                                                                                                  [awesome]  \n",
       "4006                                                                                                                                                                                                                                                                                                                                                                                                                                                                           [i, would, recommend, buying, this, it, was, just, as, advertised, also, it, came, on, the, time, and, day, that, i, was, told, it, would, come]  "
      ]
     },
     "execution_count": 10,
     "metadata": {},
     "output_type": "execute_result"
    }
   ],
   "source": [
    "reviews[['reviewText','tb_tokens']].sample(3)"
   ]
  },
  {
   "cell_type": "markdown",
   "metadata": {},
   "source": [
    "### Casual Tokenizer"
   ]
  },
  {
   "cell_type": "code",
   "execution_count": 11,
   "metadata": {},
   "outputs": [],
   "source": [
    "from nltk.tokenize.casual import casual_tokenize"
   ]
  },
  {
   "cell_type": "code",
   "execution_count": 12,
   "metadata": {},
   "outputs": [],
   "source": [
    "reviews['casual_tokens'] = reviews['rev_text_lower'].apply(lambda rev: casual_tokenize(str(rev)))"
   ]
  },
  {
   "cell_type": "code",
   "execution_count": 13,
   "metadata": {},
   "outputs": [
    {
     "data": {
      "text/html": [
       "<div>\n",
       "<style scoped>\n",
       "    .dataframe tbody tr th:only-of-type {\n",
       "        vertical-align: middle;\n",
       "    }\n",
       "\n",
       "    .dataframe tbody tr th {\n",
       "        vertical-align: top;\n",
       "    }\n",
       "\n",
       "    .dataframe thead th {\n",
       "        text-align: right;\n",
       "    }\n",
       "</style>\n",
       "<table border=\"1\" class=\"dataframe\">\n",
       "  <thead>\n",
       "    <tr style=\"text-align: right;\">\n",
       "      <th></th>\n",
       "      <th>reviewText</th>\n",
       "      <th>casual_tokens</th>\n",
       "      <th>tb_tokens</th>\n",
       "    </tr>\n",
       "  </thead>\n",
       "  <tbody>\n",
       "    <tr>\n",
       "      <th>3430</th>\n",
       "      <td>Beatiful!  Create a new look.  Excellent.  Nice quality.  Recommended.</td>\n",
       "      <td>[beatiful, create, a, new, look, excellent, nice, quality, recommended]</td>\n",
       "      <td>[beatiful, create, a, new, look, excellent, nice, quality, recommended]</td>\n",
       "    </tr>\n",
       "    <tr>\n",
       "      <th>1813</th>\n",
       "      <td>It was only three chapters in when the game froze during a cut scene and began a high pitched scream for about 30 seconds and then went on like normal.  Every cut scene the game decided I didn't want to be holding the weapon I was holding and replaced it with a pistol.  Why on earth would I drop a shotgun full of ammo for a pistol with half a clip?  Who knows?  This isn't the worst game I've ever played and the cut scenes can be enjoyable when they don't look like crap.  I would only suggest this to people who enjoy tedious shoot outs, hard boiled detective stories, and don't mind a flawed game.  If you can forgive all that's wrong with this game... it might be fun.  I for one can't.</td>\n",
       "      <td>[it, was, only, three, chapters, in, when, the, game, froze, during, a, cut, scene, and, began, a, high, pitched, scream, for, about, 30, seconds, and, then, went, on, like, normal, every, cut, scene, the, game, decided, i, didnt, want, to, be, holding, the, weapon, i, was, holding, and, replaced, it, with, a, pistol, why, on, earth, would, i, drop, a, shotgun, full, of, ammo, for, a, pistol, with, half, a, clip, who, knows, this, isnt, the, worst, game, ive, ever, played, and, the, cut, scenes, can, be, enjoyable, when, they, dont, look, like, crap, i, would, only, suggest, this, to, ...]</td>\n",
       "      <td>[it, was, only, three, chapters, in, when, the, game, froze, during, a, cut, scene, and, began, a, high, pitched, scream, for, about, 30, seconds, and, then, went, on, like, normal, every, cut, scene, the, game, decided, i, didnt, want, to, be, holding, the, weapon, i, was, holding, and, replaced, it, with, a, pistol, why, on, earth, would, i, drop, a, shotgun, full, of, ammo, for, a, pistol, with, half, a, clip, who, knows, this, isnt, the, worst, game, ive, ever, played, and, the, cut, scenes, can, be, enjoyable, when, they, dont, look, like, crap, i, would, only, suggest, this, to, ...]</td>\n",
       "    </tr>\n",
       "    <tr>\n",
       "      <th>1340</th>\n",
       "      <td>I have loved every Blizzard game but this one looks to be their first BIG flop. I guess it had to happen sooner or later. They must have gotten to big and are getting dragged down by to many cooks and kitchen(Bad management that used to be great talent but now camp and only bog down the real creatives). It is obvious that dragging out release dates is no longer for a high quality products and is just to cobble together a mesh-mash of yesteryear's leftovers. Granted all they do is re-release the same three games :-P but so far they have been doing great at improving them and adding to the muiltiplayer experience and normally have a good story line to go with it. On a side note I can believe it takes them more than two years to try to make the second part/ expansion of StarCraft II. Diablo 3 is an EXACT copy of Diablo 2. This may sound like a good thing but computers have change a little in the last 10 years and it is just not up to snuff. The story line is also very weak. My advice if you want the feeling of playing Diablo again remember what made it great. It was the first of the MMORPG's it was not quite there but it got people thinking about what could be done and playing together online. This could have been a great blend bringing the classic dungeon game to somewhat massive multiplayer but with only one to a max of 3 other people in your game it is a compleate failure and a relic of the past nothing new to see here move along and find a real MMORPG or a rpg or strategy game that can support at least 8 to 12 players in the same game.</td>\n",
       "      <td>[i, have, loved, every, blizzard, game, but, this, one, looks, to, be, their, first, big, flop, i, guess, it, had, to, happen, sooner, or, later, they, must, have, gotten, to, big, and, are, getting, dragged, down, by, to, many, cooks, and, kitchenbad, management, that, used, to, be, great, talent, but, now, camp, and, only, bog, down, the, real, creatives, it, is, obvious, that, dragging, out, release, dates, is, no, longer, for, a, high, quality, products, and, is, just, to, cobble, together, a, meshmash, of, yesteryears, leftovers, granted, all, they, do, is, rerelease, the, same, three, games, p, but, so, far, ...]</td>\n",
       "      <td>[i, have, loved, every, blizzard, game, but, this, one, looks, to, be, their, first, big, flop, i, guess, it, had, to, happen, sooner, or, later, they, must, have, gotten, to, big, and, are, getting, dragged, down, by, to, many, cooks, and, kitchenbad, management, that, used, to, be, great, talent, but, now, camp, and, only, bog, down, the, real, creatives, it, is, obvious, that, dragging, out, release, dates, is, no, longer, for, a, high, quality, products, and, is, just, to, cobble, together, a, meshmash, of, yesteryears, leftovers, granted, all, they, do, is, rerelease, the, same, three, games, p, but, so, far, ...]</td>\n",
       "    </tr>\n",
       "  </tbody>\n",
       "</table>\n",
       "</div>"
      ],
      "text/plain": [
       "                                                                                                                                                                                                                                                                                                                                                                                                                                                                                                                                                                                                                                                                                                                                                                                                                                                                                                                                                                                                                                                                                                                                                                                                                                                                                                                                                                                                                                                                                                                                                                                                                      reviewText  \\\n",
       "3430                                                                                                                                                                                                                                                                                                                                                                                                                                                                                                                                                                                                                                                                                                                                                                                                                                                                                                                                                                                                                                                                                                                                                                                                                                                                                                                                                                                                                                                                                                                                                      Beatiful!  Create a new look.  Excellent.  Nice quality.  Recommended.   \n",
       "1813                                                                                                                                                                                                                                                                                                                                                                                                                                                                                                                                                                                                                                                                                                                                                                                                                                                                                                        It was only three chapters in when the game froze during a cut scene and began a high pitched scream for about 30 seconds and then went on like normal.  Every cut scene the game decided I didn't want to be holding the weapon I was holding and replaced it with a pistol.  Why on earth would I drop a shotgun full of ammo for a pistol with half a clip?  Who knows?  This isn't the worst game I've ever played and the cut scenes can be enjoyable when they don't look like crap.  I would only suggest this to people who enjoy tedious shoot outs, hard boiled detective stories, and don't mind a flawed game.  If you can forgive all that's wrong with this game... it might be fun.  I for one can't.   \n",
       "1340  I have loved every Blizzard game but this one looks to be their first BIG flop. I guess it had to happen sooner or later. They must have gotten to big and are getting dragged down by to many cooks and kitchen(Bad management that used to be great talent but now camp and only bog down the real creatives). It is obvious that dragging out release dates is no longer for a high quality products and is just to cobble together a mesh-mash of yesteryear's leftovers. Granted all they do is re-release the same three games :-P but so far they have been doing great at improving them and adding to the muiltiplayer experience and normally have a good story line to go with it. On a side note I can believe it takes them more than two years to try to make the second part/ expansion of StarCraft II. Diablo 3 is an EXACT copy of Diablo 2. This may sound like a good thing but computers have change a little in the last 10 years and it is just not up to snuff. The story line is also very weak. My advice if you want the feeling of playing Diablo again remember what made it great. It was the first of the MMORPG's it was not quite there but it got people thinking about what could be done and playing together online. This could have been a great blend bringing the classic dungeon game to somewhat massive multiplayer but with only one to a max of 3 other people in your game it is a compleate failure and a relic of the past nothing new to see here move along and find a real MMORPG or a rpg or strategy game that can support at least 8 to 12 players in the same game.   \n",
       "\n",
       "                                                                                                                                                                                                                                                                                                                                                                                                                                                                                                                                                                                                                                           casual_tokens  \\\n",
       "3430                                                                                                                                                                                                                                                                                                                                                                                                                                                                                                                                                                             [beatiful, create, a, new, look, excellent, nice, quality, recommended]   \n",
       "1813                                [it, was, only, three, chapters, in, when, the, game, froze, during, a, cut, scene, and, began, a, high, pitched, scream, for, about, 30, seconds, and, then, went, on, like, normal, every, cut, scene, the, game, decided, i, didnt, want, to, be, holding, the, weapon, i, was, holding, and, replaced, it, with, a, pistol, why, on, earth, would, i, drop, a, shotgun, full, of, ammo, for, a, pistol, with, half, a, clip, who, knows, this, isnt, the, worst, game, ive, ever, played, and, the, cut, scenes, can, be, enjoyable, when, they, dont, look, like, crap, i, would, only, suggest, this, to, ...]   \n",
       "1340  [i, have, loved, every, blizzard, game, but, this, one, looks, to, be, their, first, big, flop, i, guess, it, had, to, happen, sooner, or, later, they, must, have, gotten, to, big, and, are, getting, dragged, down, by, to, many, cooks, and, kitchenbad, management, that, used, to, be, great, talent, but, now, camp, and, only, bog, down, the, real, creatives, it, is, obvious, that, dragging, out, release, dates, is, no, longer, for, a, high, quality, products, and, is, just, to, cobble, together, a, meshmash, of, yesteryears, leftovers, granted, all, they, do, is, rerelease, the, same, three, games, p, but, so, far, ...]   \n",
       "\n",
       "                                                                                                                                                                                                                                                                                                                                                                                                                                                                                                                                                                                                                                               tb_tokens  \n",
       "3430                                                                                                                                                                                                                                                                                                                                                                                                                                                                                                                                                                             [beatiful, create, a, new, look, excellent, nice, quality, recommended]  \n",
       "1813                                [it, was, only, three, chapters, in, when, the, game, froze, during, a, cut, scene, and, began, a, high, pitched, scream, for, about, 30, seconds, and, then, went, on, like, normal, every, cut, scene, the, game, decided, i, didnt, want, to, be, holding, the, weapon, i, was, holding, and, replaced, it, with, a, pistol, why, on, earth, would, i, drop, a, shotgun, full, of, ammo, for, a, pistol, with, half, a, clip, who, knows, this, isnt, the, worst, game, ive, ever, played, and, the, cut, scenes, can, be, enjoyable, when, they, dont, look, like, crap, i, would, only, suggest, this, to, ...]  \n",
       "1340  [i, have, loved, every, blizzard, game, but, this, one, looks, to, be, their, first, big, flop, i, guess, it, had, to, happen, sooner, or, later, they, must, have, gotten, to, big, and, are, getting, dragged, down, by, to, many, cooks, and, kitchenbad, management, that, used, to, be, great, talent, but, now, camp, and, only, bog, down, the, real, creatives, it, is, obvious, that, dragging, out, release, dates, is, no, longer, for, a, high, quality, products, and, is, just, to, cobble, together, a, meshmash, of, yesteryears, leftovers, granted, all, they, do, is, rerelease, the, same, three, games, p, but, so, far, ...]  "
      ]
     },
     "execution_count": 13,
     "metadata": {},
     "output_type": "execute_result"
    }
   ],
   "source": [
    "reviews[['reviewText','casual_tokens','tb_tokens']].sample(3)"
   ]
  },
  {
   "cell_type": "markdown",
   "metadata": {},
   "source": [
    "### Removing StopWords\n",
    "This part has been remvoed as removing stop words is not good for sentiment analysis at all!!"
   ]
  },
  {
   "cell_type": "code",
   "execution_count": 14,
   "metadata": {},
   "outputs": [],
   "source": [
    "#nltk.download('stopwords')"
   ]
  },
  {
   "cell_type": "code",
   "execution_count": 15,
   "metadata": {},
   "outputs": [],
   "source": [
    "#stop_words = nltk.corpus.stopwords.words('english')"
   ]
  },
  {
   "cell_type": "code",
   "execution_count": 16,
   "metadata": {},
   "outputs": [],
   "source": [
    "#stop_words.remove(\"no\")"
   ]
  },
  {
   "cell_type": "code",
   "execution_count": 17,
   "metadata": {},
   "outputs": [],
   "source": [
    "#stop_words.remove(\"not\")"
   ]
  },
  {
   "cell_type": "code",
   "execution_count": 18,
   "metadata": {},
   "outputs": [],
   "source": [
    "#print(stop_words)"
   ]
  },
  {
   "cell_type": "code",
   "execution_count": 19,
   "metadata": {},
   "outputs": [],
   "source": [
    "#\"not\" in stop_words"
   ]
  },
  {
   "cell_type": "code",
   "execution_count": 20,
   "metadata": {},
   "outputs": [],
   "source": [
    "#len(stop_words)"
   ]
  },
  {
   "cell_type": "code",
   "execution_count": 21,
   "metadata": {},
   "outputs": [],
   "source": [
    "#from string import punctuation\n",
    "#print(punctuation)"
   ]
  },
  {
   "cell_type": "code",
   "execution_count": 22,
   "metadata": {},
   "outputs": [],
   "source": [
    "#reviews['tokens_nosw'] = reviews['tb_tokens'].\\\n",
    "#    apply(lambda words: [w for w in words if w not in stop_words and w not in punctuation and w != \"\"])"
   ]
  },
  {
   "cell_type": "code",
   "execution_count": 23,
   "metadata": {},
   "outputs": [],
   "source": [
    "#reviews[['tb_tokens','tokens_nosw']].sample(3)"
   ]
  },
  {
   "cell_type": "markdown",
   "metadata": {},
   "source": [
    "### Stemming"
   ]
  },
  {
   "cell_type": "code",
   "execution_count": 24,
   "metadata": {},
   "outputs": [],
   "source": [
    "from nltk.stem.porter import PorterStemmer"
   ]
  },
  {
   "cell_type": "code",
   "execution_count": 25,
   "metadata": {},
   "outputs": [],
   "source": [
    "stemmer = PorterStemmer()"
   ]
  },
  {
   "cell_type": "code",
   "execution_count": 26,
   "metadata": {},
   "outputs": [],
   "source": [
    "reviews['tokens_stemmed'] = reviews['tb_tokens'].apply(lambda words: [stemmer.stem(w) for w in words])"
   ]
  },
  {
   "cell_type": "code",
   "execution_count": 27,
   "metadata": {},
   "outputs": [
    {
     "data": {
      "text/html": [
       "<div>\n",
       "<style scoped>\n",
       "    .dataframe tbody tr th:only-of-type {\n",
       "        vertical-align: middle;\n",
       "    }\n",
       "\n",
       "    .dataframe tbody tr th {\n",
       "        vertical-align: top;\n",
       "    }\n",
       "\n",
       "    .dataframe thead th {\n",
       "        text-align: right;\n",
       "    }\n",
       "</style>\n",
       "<table border=\"1\" class=\"dataframe\">\n",
       "  <thead>\n",
       "    <tr style=\"text-align: right;\">\n",
       "      <th></th>\n",
       "      <th>tb_tokens</th>\n",
       "      <th>tokens_stemmed</th>\n",
       "    </tr>\n",
       "  </thead>\n",
       "  <tbody>\n",
       "    <tr>\n",
       "      <th>1766</th>\n",
       "      <td>[a, very, buggy, game, with, a, lack, luster, story, mediocre, at, best]</td>\n",
       "      <td>[a, veri, buggi, game, with, a, lack, luster, stori, mediocr, at, best]</td>\n",
       "    </tr>\n",
       "    <tr>\n",
       "      <th>1163</th>\n",
       "      <td>[this, is, the, ps2, ps3, scenario, repeating, itself, all, over, again, the, same, way, to, the, ps3, will, never, measure, up, to, the, ps2, the, vita, is, milestones, away, from, its, predecessor, the, most, powerful, systems, have, never, been, on, top, through, out, gaming, history, history, repeats, itself, once, again, what, did, the, ps2, have, that, the, ps3, didnt, godlike, 3rd, party, support, but, not, just, that, it, had, the, most, important, aspect, of, all, balance, power, means, nothing, to, a, game, console, games, mean, everything, attracting, people, with, power, instead, of, gameplay, mechanics, and, games, is, the, easy, way, ...]</td>\n",
       "      <td>[thi, is, the, ps2, ps3, scenario, repeat, itself, all, over, again, the, same, way, to, the, ps3, will, never, measur, up, to, the, ps2, the, vita, is, mileston, away, from, it, predecessor, the, most, power, system, have, never, been, on, top, through, out, game, histori, histori, repeat, itself, onc, again, what, did, the, ps2, have, that, the, ps3, didnt, godlik, 3rd, parti, support, but, not, just, that, it, had, the, most, import, aspect, of, all, balanc, power, mean, noth, to, a, game, consol, game, mean, everyth, attract, peopl, with, power, instead, of, gameplay, mechan, and, game, is, the, easi, way, ...]</td>\n",
       "    </tr>\n",
       "    <tr>\n",
       "      <th>4189</th>\n",
       "      <td>[good]</td>\n",
       "      <td>[good]</td>\n",
       "    </tr>\n",
       "  </tbody>\n",
       "</table>\n",
       "</div>"
      ],
      "text/plain": [
       "                                                                                                                                                                                                                                                                                                                                                                                                                                                                                                                                                                                                                                                                                 tb_tokens  \\\n",
       "1766                                                                                                                                                                                                                                                                                                                                                                                                                                                                                                                                                                                                              [a, very, buggy, game, with, a, lack, luster, story, mediocre, at, best]   \n",
       "1163  [this, is, the, ps2, ps3, scenario, repeating, itself, all, over, again, the, same, way, to, the, ps3, will, never, measure, up, to, the, ps2, the, vita, is, milestones, away, from, its, predecessor, the, most, powerful, systems, have, never, been, on, top, through, out, gaming, history, history, repeats, itself, once, again, what, did, the, ps2, have, that, the, ps3, didnt, godlike, 3rd, party, support, but, not, just, that, it, had, the, most, important, aspect, of, all, balance, power, means, nothing, to, a, game, console, games, mean, everything, attracting, people, with, power, instead, of, gameplay, mechanics, and, games, is, the, easy, way, ...]   \n",
       "4189                                                                                                                                                                                                                                                                                                                                                                                                                                                                                                                                                                                                                                                                                [good]   \n",
       "\n",
       "                                                                                                                                                                                                                                                                                                                                                                                                                                                                                                                                                                                                                                      tokens_stemmed  \n",
       "1766                                                                                                                                                                                                                                                                                                                                                                                                                                                                                                                                                                         [a, veri, buggi, game, with, a, lack, luster, stori, mediocr, at, best]  \n",
       "1163  [thi, is, the, ps2, ps3, scenario, repeat, itself, all, over, again, the, same, way, to, the, ps3, will, never, measur, up, to, the, ps2, the, vita, is, mileston, away, from, it, predecessor, the, most, power, system, have, never, been, on, top, through, out, game, histori, histori, repeat, itself, onc, again, what, did, the, ps2, have, that, the, ps3, didnt, godlik, 3rd, parti, support, but, not, just, that, it, had, the, most, import, aspect, of, all, balanc, power, mean, noth, to, a, game, consol, game, mean, everyth, attract, peopl, with, power, instead, of, gameplay, mechan, and, game, is, the, easi, way, ...]  \n",
       "4189                                                                                                                                                                                                                                                                                                                                                                                                                                                                                                                                                                                                                                          [good]  "
      ]
     },
     "execution_count": 27,
     "metadata": {},
     "output_type": "execute_result"
    }
   ],
   "source": [
    "reviews[['tb_tokens','tokens_stemmed']].sample(3)"
   ]
  },
  {
   "cell_type": "markdown",
   "metadata": {},
   "source": [
    "### Lemmatisation"
   ]
  },
  {
   "cell_type": "code",
   "execution_count": 28,
   "metadata": {},
   "outputs": [],
   "source": [
    "from nltk.stem import WordNetLemmatizer\n",
    "from nltk.corpus import wordnet as wn\n",
    "from nltk.corpus import sentiwordnet as swn\n",
    "from nltk import sent_tokenize, word_tokenize, pos_tag"
   ]
  },
  {
   "cell_type": "code",
   "execution_count": 29,
   "metadata": {},
   "outputs": [],
   "source": [
    "def penn_to_wn(tag):\n",
    "    \"\"\"\n",
    "        Convert between the PennTreebank tags to simple Wordnet tags\n",
    "    \"\"\"\n",
    "    if tag.startswith('J'):\n",
    "        return wn.ADJ\n",
    "    elif tag.startswith('N'):\n",
    "        return wn.NOUN\n",
    "    elif tag.startswith('R'):\n",
    "        return wn.ADV\n",
    "    elif tag.startswith('V'):\n",
    "        return wn.VERB\n",
    "    return None"
   ]
  },
  {
   "cell_type": "code",
   "execution_count": 30,
   "metadata": {},
   "outputs": [],
   "source": [
    "lemmatizer = WordNetLemmatizer()\n",
    "def get_lemas(tokens):\n",
    "    lemmas = []\n",
    "    for token in tokens:\n",
    "        pos = penn_to_wn(pos_tag([token])[0][1])\n",
    "        if pos:\n",
    "            lemma = lemmatizer.lemmatize(token, pos)\n",
    "            if lemma:\n",
    "                lemmas.append(lemma)\n",
    "    return lemmas"
   ]
  },
  {
   "cell_type": "code",
   "execution_count": 31,
   "metadata": {},
   "outputs": [],
   "source": [
    "reviews['lemmas'] = reviews['tb_tokens'].apply(lambda tokens: get_lemas(tokens))"
   ]
  },
  {
   "cell_type": "code",
   "execution_count": 39,
   "metadata": {},
   "outputs": [
    {
     "data": {
      "text/html": [
       "<div>\n",
       "<style scoped>\n",
       "    .dataframe tbody tr th:only-of-type {\n",
       "        vertical-align: middle;\n",
       "    }\n",
       "\n",
       "    .dataframe tbody tr th {\n",
       "        vertical-align: top;\n",
       "    }\n",
       "\n",
       "    .dataframe thead th {\n",
       "        text-align: right;\n",
       "    }\n",
       "</style>\n",
       "<table border=\"1\" class=\"dataframe\">\n",
       "  <thead>\n",
       "    <tr style=\"text-align: right;\">\n",
       "      <th></th>\n",
       "      <th>reviewText</th>\n",
       "      <th>tokens_stemmed</th>\n",
       "      <th>lemmas</th>\n",
       "    </tr>\n",
       "  </thead>\n",
       "  <tbody>\n",
       "    <tr>\n",
       "      <th>4135</th>\n",
       "      <td>Freaking awesome game!!! I did all kinds of side missions that normally I would skip.</td>\n",
       "      <td>[freak, awesom, game, i, did, all, kind, of, side, mission, that, normal, i, would, skip]</td>\n",
       "      <td>[freak, awesome, game, i, do, kind, side, mission, normally, i, skip]</td>\n",
       "    </tr>\n",
       "    <tr>\n",
       "      <th>1878</th>\n",
       "      <td>After my 60+ hours of game play, I get more and more frustrated with the game.\\n\\n+ side: nice graphic, and curve roads are nice.\\n\\n- side:\\nalways online sucks, yes they fixes the logon issue, so I can always logon without waiting. The problems I am having now is that I cannot load some of my cities at all. So many hours of work is wasted\\n\\nTourism is broken.  All the casinos and attractions suddenly lost all the customers for no explainable reasons. I have airport, rail, and ferry running, but all of a sudden people just decide not to visit.\\n\\nInteractive between cities has lots of issues. Simcity try to be MMO, but they cannot do simple transactions right. Imagine that each city is a character in a MMO, and it takes 10+ minutes for each characters to exchange items/gold?  Do you want to play MMO like that?\\n\\nPublic transports just randomly pick and drop sims, and path finding has lots of issues. Some of the stores say no shoppers and some sims ask where is shopping, even they are right across the street. A $20 game like Cities in Motion does a lot better than Simcity in terms of path finding and transport system.\\n\\nRendering issues. Some of the buildings keep switching from invisible to visible back and forth. Sometimes when you have a quest, you get zoom in, but what you get is the back of some tall buildings because they are getting int the way. May be they should have an options to change theses behaviors?\\n\\nThere are many fundamental design issues in this game, and I do not know if EA can or willing to actually fix them.</td>\n",
       "      <td>[after, my, 60, hour, of, game, play, i, get, more, and, more, frustrat, with, the, game, side, nice, graphic, and, curv, road, are, nice, side, alway, onlin, suck, ye, they, fix, the, logon, issu, so, i, can, alway, logon, without, wait, the, problem, i, am, have, now, is, that, i, can, not, load, some, of, my, citi, at, all, so, mani, hour, of, work, is, wast, tourism, is, broken, all, the, casino, and, attract, suddenli, lost, all, the, custom, for, no, explain, reason, i, have, airport, rail, and, ferri, run, but, all, of, a, sudden, peopl, just, decid, not, to, ...]</td>\n",
       "      <td>[hour, game, play, i, get, more, more, frustrate, game, side, nice, graphic, curve, road, be, nice, side, always, online, suck, yes, fix, logon, issue, so, i, always, logon, wait, problem, i, be, have, now, be, i, not, load, city, so, many, hour, work, be, waste, tourism, be, broken, casino, attraction, suddenly, lose, customer, explainable, reason, i, have, airport, rail, ferry, run, sudden, people, just, decide, not, visit, interactive, city, have, lot, issue, simcity, try, be, mmo, not, do, simple, transaction, right, imagine, city, be, character, mmo, take, minute, character, exchange, itemsgold, do, want, play, mmo, public, transport, just, randomly, pick, ...]</td>\n",
       "    </tr>\n",
       "  </tbody>\n",
       "</table>\n",
       "</div>"
      ],
      "text/plain": [
       "                                                                                                                                                                                                                                                                                                                                                                                                                                                                                                                                                                                                                                                                                                                                                                                                                                                                                                                                                                                                                                                                                                                                                                                                                                                                                                                                                                                                                                                                                                                                                                                                                   reviewText  \\\n",
       "4135                                                                                                                                                                                                                                                                                                                                                                                                                                                                                                                                                                                                                                                                                                                                                                                                                                                                                                                                                                                                                                                                                                                                                                                                                                                                                                                                                                                                                                                                                                                                    Freaking awesome game!!! I did all kinds of side missions that normally I would skip.   \n",
       "1878  After my 60+ hours of game play, I get more and more frustrated with the game.\\n\\n+ side: nice graphic, and curve roads are nice.\\n\\n- side:\\nalways online sucks, yes they fixes the logon issue, so I can always logon without waiting. The problems I am having now is that I cannot load some of my cities at all. So many hours of work is wasted\\n\\nTourism is broken.  All the casinos and attractions suddenly lost all the customers for no explainable reasons. I have airport, rail, and ferry running, but all of a sudden people just decide not to visit.\\n\\nInteractive between cities has lots of issues. Simcity try to be MMO, but they cannot do simple transactions right. Imagine that each city is a character in a MMO, and it takes 10+ minutes for each characters to exchange items/gold?  Do you want to play MMO like that?\\n\\nPublic transports just randomly pick and drop sims, and path finding has lots of issues. Some of the stores say no shoppers and some sims ask where is shopping, even they are right across the street. A $20 game like Cities in Motion does a lot better than Simcity in terms of path finding and transport system.\\n\\nRendering issues. Some of the buildings keep switching from invisible to visible back and forth. Sometimes when you have a quest, you get zoom in, but what you get is the back of some tall buildings because they are getting int the way. May be they should have an options to change theses behaviors?\\n\\nThere are many fundamental design issues in this game, and I do not know if EA can or willing to actually fix them.   \n",
       "\n",
       "                                                                                                                                                                                                                                                                                                                                                                                                                                                                                                                                                                                         tokens_stemmed  \\\n",
       "4135                                                                                                                                                                                                                                                                                                                                                                                                                                                                                                          [freak, awesom, game, i, did, all, kind, of, side, mission, that, normal, i, would, skip]   \n",
       "1878  [after, my, 60, hour, of, game, play, i, get, more, and, more, frustrat, with, the, game, side, nice, graphic, and, curv, road, are, nice, side, alway, onlin, suck, ye, they, fix, the, logon, issu, so, i, can, alway, logon, without, wait, the, problem, i, am, have, now, is, that, i, can, not, load, some, of, my, citi, at, all, so, mani, hour, of, work, is, wast, tourism, is, broken, all, the, casino, and, attract, suddenli, lost, all, the, custom, for, no, explain, reason, i, have, airport, rail, and, ferri, run, but, all, of, a, sudden, peopl, just, decid, not, to, ...]   \n",
       "\n",
       "                                                                                                                                                                                                                                                                                                                                                                                                                                                                                                                                                                                                                                                                                                  lemmas  \n",
       "4135                                                                                                                                                                                                                                                                                                                                                                                                                                                                                                                                                                                                                               [freak, awesome, game, i, do, kind, side, mission, normally, i, skip]  \n",
       "1878  [hour, game, play, i, get, more, more, frustrate, game, side, nice, graphic, curve, road, be, nice, side, always, online, suck, yes, fix, logon, issue, so, i, always, logon, wait, problem, i, be, have, now, be, i, not, load, city, so, many, hour, work, be, waste, tourism, be, broken, casino, attraction, suddenly, lose, customer, explainable, reason, i, have, airport, rail, ferry, run, sudden, people, just, decide, not, visit, interactive, city, have, lot, issue, simcity, try, be, mmo, not, do, simple, transaction, right, imagine, city, be, character, mmo, take, minute, character, exchange, itemsgold, do, want, play, mmo, public, transport, just, randomly, pick, ...]  "
      ]
     },
     "execution_count": 39,
     "metadata": {},
     "output_type": "execute_result"
    }
   ],
   "source": [
    "reviews[['reviewText','tokens_stemmed','lemmas']].sample(2)"
   ]
  },
  {
   "cell_type": "markdown",
   "metadata": {},
   "source": [
    "### Sentiment Predictor Baseline Model"
   ]
  },
  {
   "cell_type": "code",
   "execution_count": 54,
   "metadata": {},
   "outputs": [],
   "source": [
    "def get_sentiment_score(tokens):\n",
    "    score = 0\n",
    "    tags = pos_tag(tokens)\n",
    "    for word, tag in tags:\n",
    "        wn_tag = penn_to_wn(tag)\n",
    "        if not wn_tag:\n",
    "            continue\n",
    "        synsets = wn.synsets(word, pos=wn_tag)\n",
    "        if not synsets:\n",
    "            continue\n",
    "        \n",
    "        #most common set:\n",
    "        synset = synsets[0]\n",
    "        swn_synset = swn.senti_synset(synset.name())\n",
    "        \n",
    "        score += (swn_synset.pos_score() - swn_synset.neg_score())\n",
    "        \n",
    "    return score\n",
    "                    "
   ]
  },
  {
   "cell_type": "code",
   "execution_count": 61,
   "metadata": {},
   "outputs": [
    {
     "data": {
      "text/plain": [
       "0.625"
      ]
     },
     "execution_count": 61,
     "metadata": {},
     "output_type": "execute_result"
    }
   ],
   "source": [
    "## test\n",
    "swn.senti_synset(wn.synsets(\"perfect\", wn.ADJ)[0].name()).pos_score()"
   ]
  },
  {
   "cell_type": "code",
   "execution_count": 56,
   "metadata": {},
   "outputs": [],
   "source": [
    "reviews['sentiment_score'] = reviews['lemmas'].apply(lambda tokens: get_sentiment_score(tokens))"
   ]
  },
  {
   "cell_type": "code",
   "execution_count": 57,
   "metadata": {},
   "outputs": [
    {
     "data": {
      "text/html": [
       "<div>\n",
       "<style scoped>\n",
       "    .dataframe tbody tr th:only-of-type {\n",
       "        vertical-align: middle;\n",
       "    }\n",
       "\n",
       "    .dataframe tbody tr th {\n",
       "        vertical-align: top;\n",
       "    }\n",
       "\n",
       "    .dataframe thead th {\n",
       "        text-align: right;\n",
       "    }\n",
       "</style>\n",
       "<table border=\"1\" class=\"dataframe\">\n",
       "  <thead>\n",
       "    <tr style=\"text-align: right;\">\n",
       "      <th></th>\n",
       "      <th>reviewText</th>\n",
       "      <th>lemmas</th>\n",
       "      <th>sentiment_score</th>\n",
       "    </tr>\n",
       "  </thead>\n",
       "  <tbody>\n",
       "    <tr>\n",
       "      <th>3875</th>\n",
       "      <td>It works well just as he said with just a little dirt on the contacts. Check seller ratings to improve the possibility of your old school game working. Ask all your questions</td>\n",
       "      <td>[work, well, just, say, just, little, dirt, contact, check, seller, rating, improve, possibility, old, school, game, work, ask, question]</td>\n",
       "      <td>0.875</td>\n",
       "    </tr>\n",
       "    <tr>\n",
       "      <th>803</th>\n",
       "      <td>I tried to play the game but it would freeze up so I didn't get to play.</td>\n",
       "      <td>[i, try, play, game, freeze, up, so, i, didnt, get, play]</td>\n",
       "      <td>-0.125</td>\n",
       "    </tr>\n",
       "    <tr>\n",
       "      <th>1419</th>\n",
       "      <td>I cannot see how anyone would like this game. You must have the patience of a python waiting a month to catch prey. My wife bought this game with my PS3 as a gift. Two days later I took it to Gamestop...I was surprised to get 40 buck for it. Well, when it went on sale on Amazon I figured I did not give it a chance so I bought it for PC, well waste of money. It take about an hour before the game starts, and once it does still no action. I cannot even play it anymore.</td>\n",
       "      <td>[i, not, see, anyone, game, have, patience, python, wait, month, catch, prey, wife, bought, game, ps3, gift, day, later, i, take, gamestopi, be, surprised, get, buck, well, go, sale, amazon, i, figure, i, do, not, give, chance, so, i, bought, pc, well, waste, money, take, hour, game, start, once, do, still, action, i, not, even, play, anymore]</td>\n",
       "      <td>-1.125</td>\n",
       "    </tr>\n",
       "    <tr>\n",
       "      <th>2861</th>\n",
       "      <td>True to the brand, lots of good details. Fun skills, upgrades and lots of great missions. I bought for my son but my husband took it over! I love the original songs and score in the game. It can be a little tricky to capture ghosts at first but once you get the hang of it you will find it a lot of fun. I feel the game is a little hard for younger kids so I would not reccomend to kids under 7. I ain't afraid of no ghosts!</td>\n",
       "      <td>[true, brand, lot, good, detail, fun, skill, upgrade, lot, great, mission, i, bought, son, husband, take, i, love, original, song, score, game, be, little, tricky, capture, ghost, first, once, get, hang, find, lot, fun, i, feel, game, be, little, hard, young, kid, so, i, not, reccomend, kid, i, aint, afraid, ghost]</td>\n",
       "      <td>-0.125</td>\n",
       "    </tr>\n",
       "    <tr>\n",
       "      <th>3156</th>\n",
       "      <td>Very well made game for being a Wii title. I play on my wii u</td>\n",
       "      <td>[very, well, make, game, be, wii, title, i, play, wii, u]</td>\n",
       "      <td>0.250</td>\n",
       "    </tr>\n",
       "  </tbody>\n",
       "</table>\n",
       "</div>"
      ],
      "text/plain": [
       "                                                                                                                                                                                                                                                                                                                                                                                                                                                                                  reviewText  \\\n",
       "3875                                                                                                                                                                                                                                                                                                          It works well just as he said with just a little dirt on the contacts. Check seller ratings to improve the possibility of your old school game working. Ask all your questions   \n",
       "803                                                                                                                                                                                                                                                                                                                                                                                                                 I tried to play the game but it would freeze up so I didn't get to play.   \n",
       "1419  I cannot see how anyone would like this game. You must have the patience of a python waiting a month to catch prey. My wife bought this game with my PS3 as a gift. Two days later I took it to Gamestop...I was surprised to get 40 buck for it. Well, when it went on sale on Amazon I figured I did not give it a chance so I bought it for PC, well waste of money. It take about an hour before the game starts, and once it does still no action. I cannot even play it anymore.   \n",
       "2861                                                True to the brand, lots of good details. Fun skills, upgrades and lots of great missions. I bought for my son but my husband took it over! I love the original songs and score in the game. It can be a little tricky to capture ghosts at first but once you get the hang of it you will find it a lot of fun. I feel the game is a little hard for younger kids so I would not reccomend to kids under 7. I ain't afraid of no ghosts!   \n",
       "3156                                                                                                                                                                                                                                                                                                                                                                                                                           Very well made game for being a Wii title. I play on my wii u   \n",
       "\n",
       "                                                                                                                                                                                                                                                                                                                                                         lemmas  \\\n",
       "3875                                                                                                                                                                                                                  [work, well, just, say, just, little, dirt, contact, check, seller, rating, improve, possibility, old, school, game, work, ask, question]   \n",
       "803                                                                                                                                                                                                                                                                                                   [i, try, play, game, freeze, up, so, i, didnt, get, play]   \n",
       "1419  [i, not, see, anyone, game, have, patience, python, wait, month, catch, prey, wife, bought, game, ps3, gift, day, later, i, take, gamestopi, be, surprised, get, buck, well, go, sale, amazon, i, figure, i, do, not, give, chance, so, i, bought, pc, well, waste, money, take, hour, game, start, once, do, still, action, i, not, even, play, anymore]   \n",
       "2861                               [true, brand, lot, good, detail, fun, skill, upgrade, lot, great, mission, i, bought, son, husband, take, i, love, original, song, score, game, be, little, tricky, capture, ghost, first, once, get, hang, find, lot, fun, i, feel, game, be, little, hard, young, kid, so, i, not, reccomend, kid, i, aint, afraid, ghost]   \n",
       "3156                                                                                                                                                                                                                                                                                                  [very, well, make, game, be, wii, title, i, play, wii, u]   \n",
       "\n",
       "      sentiment_score  \n",
       "3875            0.875  \n",
       "803            -0.125  \n",
       "1419           -1.125  \n",
       "2861           -0.125  \n",
       "3156            0.250  "
      ]
     },
     "execution_count": 57,
     "metadata": {},
     "output_type": "execute_result"
    }
   ],
   "source": [
    "reviews[['reviewText','lemmas','sentiment_score']].sample(5)"
   ]
  },
  {
   "cell_type": "code",
   "execution_count": 58,
   "metadata": {},
   "outputs": [
    {
     "data": {
      "text/html": [
       "<div>\n",
       "<style scoped>\n",
       "    .dataframe tbody tr th:only-of-type {\n",
       "        vertical-align: middle;\n",
       "    }\n",
       "\n",
       "    .dataframe tbody tr th {\n",
       "        vertical-align: top;\n",
       "    }\n",
       "\n",
       "    .dataframe thead th {\n",
       "        text-align: right;\n",
       "    }\n",
       "</style>\n",
       "<table border=\"1\" class=\"dataframe\">\n",
       "  <thead>\n",
       "    <tr style=\"text-align: right;\">\n",
       "      <th></th>\n",
       "      <th>reviewText</th>\n",
       "      <th>lemmas</th>\n",
       "      <th>sentiment_score</th>\n",
       "    </tr>\n",
       "  </thead>\n",
       "  <tbody>\n",
       "    <tr>\n",
       "      <th>2434</th>\n",
       "      <td>Super Ghouls 'N Ghosts is impossible.  Nah it's not.  It's possible.  It's possible to beat this game.  I know because I've watched people do it before.  But your patience level needs to be at its absolute highest in order to get *anywhere* in this game.  With a game so tough it's no wonder most people back in the day only played it a couple times, realized how hard it was and put it away for years until they eventually sold it.  I know I would've done the same thing had I not had prior knowledge of this games incredible difficulty.\\n\\nNot getting through level 1 was a bad enough experience for me, but I already knew what to expect going into the game so I didn't mind the loss.  I didn't take losing personally.  No, not when you're playing a game with a reputation for being extremely hard.  You learn to KNOW better!  Some people just didn't know what they were getting into when they played this for the first time (and probably now with a whole new generation of gamers, you could pull a really dirty trick on them and say \"Hey!  Check out THIS game!  I know you'll love it!\" and see what their reaction is like, lol).  Probably a face-ripping reaction... that being your face.\\n\\nWhat makes the game so tough is a combination of 3 things- 1 is the play control.  Growing up with the NES generation I never minded awkward moving and jumping if the surrounding danger was kept to a minimum. Unfortunately the surrounding danger in this game is *constant* with many precious deadly surprises around every corner, and enemies are located in places *just* off-screen and appearing magically when you move over one notch.  Just enough for you to take an unavoidable hit in the cheapest way ever.  Throw in water stages and platform logs you have to ride across, and how about a level that moves up and down while riding a platform all the while avoiding surrounding dangerous enemies and their attacks, and that's the kind of nightmare-ish encounters you can expect in Super Ghouls 'N Ghosts.  The game *wants* you, BEGS you, to take a walk into dangerous territory just so you can take a hit.\\n\\nThe 2nd reason for this games high challenge and for me clearly the biggest reason, is the fact that you can only get once or twice and then you die.  If at least 5 different enemies and attack are occurring all around you giving you little time to react, the generous and actually *right* gameplay method is to allow the player to take at least more than 1 or 2 hits.  Even Castlevania with its amazingly high challenge is courteous enough to allow the player to take at least 3-4 hits.  Imagine if you couldn't even wear protective gear while roaming through the levels of Super Ghouls 'N Ghosts?  Then it simply becomes \"1 hit you're dead\".  At least Contra allows the player to reappear in the same spot after a death.  No, in this game you either have to start back at the beginning of the stage or the nearest checkpoint.  The gameplay is already sluggish enough- it's not worth the aggravation believe me.\\n\\nAnd the 3rd reason is one I already mentioned- enemies being cheap.  Too many enemies on screen?  Yes.  Enemies with unpredictable movements with no clear pattern to retaliate?  Oh yeah (those DARN bird creatures have no pattern and you have to deal with more than 1 on screen occasionally!) Oddly the boss fights are relatively easy compared to the regular enemies that often swarm the stages.  Too much commotion taking place to properly focus on enemy elimination is an unforgiveable issue.  I guess the good news is that at least the levels aren't boring.\\n\\nTo Super Ghouls 'N Ghosts credit a massively challenging game does sometimes have its moments of fun... when you're partying with friends and falling down drunk.  Or when a cat is taking its claws and scratching your face to shreds.  Or when you're so cold your feet feel like swollen icicles.  Or when the Dallas Cowboys are winning.  Under these conditions the game is probably fun, but not when you have a nice library of more sensible and enjoyable games sitting just a few feet from where you stand.  Oh and... before I forget!  If you're somehow able to make it to level 7, you HAVE to use the right weapon to eliminate the boss here otherwise the game will actually kick you back to level 1 preventing you from entering level 8.  That's silly, annoying, ridiculous, pathetic and horrible all wrapped in a nice package for grandma.\\n\\nOtherwise this game has really memorable music, fantastic Super NES graphics/superbly detailed backgrounds, and only a little bit of replay value obviously due to the high challenge level but also the fact that the game is short at just over 40 minutes (if you're an amazing enough gamer to blast through these tough stages that is- for the rest of us Super Ghouls 'N Ghosts takes hours to finish).  I recommend skipping this one.  Contra III: The Alien Wars is the other ridiculously hard Super NES game but at least it's fairer.</td>\n",
       "      <td>[super, ghoul, n, ghost, be, impossible, nah, not, possible, possible, beat, game, i, know, ive, watch, people, do, patience, level, need, be, absolute, high, order, get, anywhere, game, game, so, tough, wonder, most, people, back, day, only, played, couple, time, realize, hard, be, put, away, year, eventually, sell, i, know, i, wouldve, do, same, thing, have, i, not, have, prior, knowledge, game, incredible, difficulty, not, get, level, be, bad, enough, experience, i, already, knew, expect, go, game, so, i, didnt, mind, loss, i, didnt, take, lose, personally, not, youre, play, game, reputation, be, extremely, hard, learn, know, well, people, just, ...]</td>\n",
       "      <td>1.250</td>\n",
       "    </tr>\n",
       "    <tr>\n",
       "      <th>1689</th>\n",
       "      <td>I have been a long Playstation person. But now their network is all kinds of screwed up. They have screwed up the account and have to now send it to a \"specialist\" in which I have to wait at least 2 days before I can even use my system anymore since everything requires the playstation ID. So not happy. Gave 2 stars instead of 1 because the Customer Service guy was pretty nice, and he did his best, it is the Sony company that screwed this all up. So good job for the support guy, but boo for Sony.</td>\n",
       "      <td>[i, have, be, long, playstation, person, now, network, be, kind, screw, up, have, screw, up, account, have, now, send, specialist, i, have, wait, least, day, i, even, use, system, anymore, everything, require, playstation, id, so, not, happy, give, star, instead, customer, service, guy, be, pretty, nice, do, best, be, sony, company, screw, up, so, good, job, support, guy, boo, sony]</td>\n",
       "      <td>5.250</td>\n",
       "    </tr>\n",
       "    <tr>\n",
       "      <th>4317</th>\n",
       "      <td>one of my favorites</td>\n",
       "      <td>[favorite]</td>\n",
       "      <td>0.250</td>\n",
       "    </tr>\n",
       "    <tr>\n",
       "      <th>1751</th>\n",
       "      <td>I received the Ghostbusters movie instead. I was looking forward to playing this game</td>\n",
       "      <td>[i, receive, ghostbusters, movie, instead, i, be, look, forward, play, game]</td>\n",
       "      <td>0.125</td>\n",
       "    </tr>\n",
       "    <tr>\n",
       "      <th>4034</th>\n",
       "      <td>So much fun, It improves the 1st one so much, love the settings menu, the blood and physics are awesome.\\nIf you get this game I would recommend the superpad 64 the one that looks like a modern controller. just because this game dose use the d-pad, crap get that controller anyway.\\nlove this game.\\nOne of the few games i know that you can shoot some ones neck and watch the blood squirt out, or blow limbs off....\\nlove it</td>\n",
       "      <td>[so, much, fun, improves, so, much, love, setting, menu, blood, physic, be, awesome, get, game, i, recommend, superpad, look, modern, controller, just, game, dose, use, dpad, crap, get, controller, anyway, love, game, few, game, i, know, shoot, one, neck, watch, blood, squirt, blow, limb, love]</td>\n",
       "      <td>1.375</td>\n",
       "    </tr>\n",
       "  </tbody>\n",
       "</table>\n",
       "</div>"
      ],
      "text/plain": [
       "                                                                                                                                                                                                                                                                                                                                                                                                                                                                                                                                                                                                                                                                                                                                                                                                                                                                                                                                                                                                                                                                                                                                                                                                                                                                                                                                                                                                                                                                                                                                                                                                                                                                                                                                                                                                                                                                                                                                                                                                                                                                                                                                                                                                                                                                                                                                                                                                                                                                                                                                                                                                                                                                                                                                                                                                                                                                                                                                                                                                                                                                                                                                                                                                                                                                                                                                                                                                                                                                                                                                                                                                                                                                                                                                                                                                                                                                                                                                                                                                                                                                                                                                                                                                                                                                                                                                                                                                                                                                                                                                                                                                                                                                                                                                                                                                                                                                                                                                                                                                                                                                                                                                                       reviewText  \\\n",
       "2434  Super Ghouls 'N Ghosts is impossible.  Nah it's not.  It's possible.  It's possible to beat this game.  I know because I've watched people do it before.  But your patience level needs to be at its absolute highest in order to get *anywhere* in this game.  With a game so tough it's no wonder most people back in the day only played it a couple times, realized how hard it was and put it away for years until they eventually sold it.  I know I would've done the same thing had I not had prior knowledge of this games incredible difficulty.\\n\\nNot getting through level 1 was a bad enough experience for me, but I already knew what to expect going into the game so I didn't mind the loss.  I didn't take losing personally.  No, not when you're playing a game with a reputation for being extremely hard.  You learn to KNOW better!  Some people just didn't know what they were getting into when they played this for the first time (and probably now with a whole new generation of gamers, you could pull a really dirty trick on them and say \"Hey!  Check out THIS game!  I know you'll love it!\" and see what their reaction is like, lol).  Probably a face-ripping reaction... that being your face.\\n\\nWhat makes the game so tough is a combination of 3 things- 1 is the play control.  Growing up with the NES generation I never minded awkward moving and jumping if the surrounding danger was kept to a minimum. Unfortunately the surrounding danger in this game is *constant* with many precious deadly surprises around every corner, and enemies are located in places *just* off-screen and appearing magically when you move over one notch.  Just enough for you to take an unavoidable hit in the cheapest way ever.  Throw in water stages and platform logs you have to ride across, and how about a level that moves up and down while riding a platform all the while avoiding surrounding dangerous enemies and their attacks, and that's the kind of nightmare-ish encounters you can expect in Super Ghouls 'N Ghosts.  The game *wants* you, BEGS you, to take a walk into dangerous territory just so you can take a hit.\\n\\nThe 2nd reason for this games high challenge and for me clearly the biggest reason, is the fact that you can only get once or twice and then you die.  If at least 5 different enemies and attack are occurring all around you giving you little time to react, the generous and actually *right* gameplay method is to allow the player to take at least more than 1 or 2 hits.  Even Castlevania with its amazingly high challenge is courteous enough to allow the player to take at least 3-4 hits.  Imagine if you couldn't even wear protective gear while roaming through the levels of Super Ghouls 'N Ghosts?  Then it simply becomes \"1 hit you're dead\".  At least Contra allows the player to reappear in the same spot after a death.  No, in this game you either have to start back at the beginning of the stage or the nearest checkpoint.  The gameplay is already sluggish enough- it's not worth the aggravation believe me.\\n\\nAnd the 3rd reason is one I already mentioned- enemies being cheap.  Too many enemies on screen?  Yes.  Enemies with unpredictable movements with no clear pattern to retaliate?  Oh yeah (those DARN bird creatures have no pattern and you have to deal with more than 1 on screen occasionally!) Oddly the boss fights are relatively easy compared to the regular enemies that often swarm the stages.  Too much commotion taking place to properly focus on enemy elimination is an unforgiveable issue.  I guess the good news is that at least the levels aren't boring.\\n\\nTo Super Ghouls 'N Ghosts credit a massively challenging game does sometimes have its moments of fun... when you're partying with friends and falling down drunk.  Or when a cat is taking its claws and scratching your face to shreds.  Or when you're so cold your feet feel like swollen icicles.  Or when the Dallas Cowboys are winning.  Under these conditions the game is probably fun, but not when you have a nice library of more sensible and enjoyable games sitting just a few feet from where you stand.  Oh and... before I forget!  If you're somehow able to make it to level 7, you HAVE to use the right weapon to eliminate the boss here otherwise the game will actually kick you back to level 1 preventing you from entering level 8.  That's silly, annoying, ridiculous, pathetic and horrible all wrapped in a nice package for grandma.\\n\\nOtherwise this game has really memorable music, fantastic Super NES graphics/superbly detailed backgrounds, and only a little bit of replay value obviously due to the high challenge level but also the fact that the game is short at just over 40 minutes (if you're an amazing enough gamer to blast through these tough stages that is- for the rest of us Super Ghouls 'N Ghosts takes hours to finish).  I recommend skipping this one.  Contra III: The Alien Wars is the other ridiculously hard Super NES game but at least it's fairer.   \n",
       "1689                                                                                                                                                                                                                                                                                                                                                                                                                                                                                                                                                                                                                                                                                                                                                                                                                                                                                                                                                                                                                                                                                                                                                                                                                                                                                                                                                                                                                                                                                                                                                                                                                                                                                                                                                                                                                                                                                                                                                                                                                                                                                                                                                                                                                                                                                                                                                                                                                                                                                                                                                                                                                                                                                                                                                                                                                                                                                                                                                                                                                                                                                                                                                                                                                                                                                                                                                                                                                                                                                                                                                                                                                                                                                                                                                                                                                                                                                                                                                                                                                                                                                                                                                                                                                                                                                                                                                                                                                                                                                                                                                                                                                                         I have been a long Playstation person. But now their network is all kinds of screwed up. They have screwed up the account and have to now send it to a \"specialist\" in which I have to wait at least 2 days before I can even use my system anymore since everything requires the playstation ID. So not happy. Gave 2 stars instead of 1 because the Customer Service guy was pretty nice, and he did his best, it is the Sony company that screwed this all up. So good job for the support guy, but boo for Sony.   \n",
       "4317                                                                                                                                                                                                                                                                                                                                                                                                                                                                                                                                                                                                                                                                                                                                                                                                                                                                                                                                                                                                                                                                                                                                                                                                                                                                                                                                                                                                                                                                                                                                                                                                                                                                                                                                                                                                                                                                                                                                                                                                                                                                                                                                                                                                                                                                                                                                                                                                                                                                                                                                                                                                                                                                                                                                                                                                                                                                                                                                                                                                                                                                                                                                                                                                                                                                                                                                                                                                                                                                                                                                                                                                                                                                                                                                                                                                                                                                                                                                                                                                                                                                                                                                                                                                                                                                                                                                                                                                                                                                                                                                                                                                                                                                                                                                                                                                                                                                                                                                                                                                                                                                                                                                          one of my favorites   \n",
       "1751                                                                                                                                                                                                                                                                                                                                                                                                                                                                                                                                                                                                                                                                                                                                                                                                                                                                                                                                                                                                                                                                                                                                                                                                                                                                                                                                                                                                                                                                                                                                                                                                                                                                                                                                                                                                                                                                                                                                                                                                                                                                                                                                                                                                                                                                                                                                                                                                                                                                                                                                                                                                                                                                                                                                                                                                                                                                                                                                                                                                                                                                                                                                                                                                                                                                                                                                                                                                                                                                                                                                                                                                                                                                                                                                                                                                                                                                                                                                                                                                                                                                                                                                                                                                                                                                                                                                                                                                                                                                                                                                                                                                                                                                                                                                                                                                                                                                                                                                                                                                                                                                        I received the Ghostbusters movie instead. I was looking forward to playing this game   \n",
       "4034                                                                                                                                                                                                                                                                                                                                                                                                                                                                                                                                                                                                                                                                                                                                                                                                                                                                                                                                                                                                                                                                                                                                                                                                                                                                                                                                                                                                                                                                                                                                                                                                                                                                                                                                                                                                                                                                                                                                                                                                                                                                                                                                                                                                                                                                                                                                                                                                                                                                                                                                                                                                                                                                                                                                                                                                                                                                                                                                                                                                                                                                                                                                                                                                                                                                                                                                                                                                                                                                                                                                                                                                                                                                                                                                                                                                                                                                                                                                                                                                                                                                                                                                                                                                                                                                                                                                                                                                                                                                                                                                                                                                                                                                                                                     So much fun, It improves the 1st one so much, love the settings menu, the blood and physics are awesome.\\nIf you get this game I would recommend the superpad 64 the one that looks like a modern controller. just because this game dose use the d-pad, crap get that controller anyway.\\nlove this game.\\nOne of the few games i know that you can shoot some ones neck and watch the blood squirt out, or blow limbs off....\\nlove it   \n",
       "\n",
       "                                                                                                                                                                                                                                                                                                                                                                                                                                                                                                                                                                                                                                                                                     lemmas  \\\n",
       "2434  [super, ghoul, n, ghost, be, impossible, nah, not, possible, possible, beat, game, i, know, ive, watch, people, do, patience, level, need, be, absolute, high, order, get, anywhere, game, game, so, tough, wonder, most, people, back, day, only, played, couple, time, realize, hard, be, put, away, year, eventually, sell, i, know, i, wouldve, do, same, thing, have, i, not, have, prior, knowledge, game, incredible, difficulty, not, get, level, be, bad, enough, experience, i, already, knew, expect, go, game, so, i, didnt, mind, loss, i, didnt, take, lose, personally, not, youre, play, game, reputation, be, extremely, hard, learn, know, well, people, just, ...]   \n",
       "1689                                                                                                                                                                                                                                                                                      [i, have, be, long, playstation, person, now, network, be, kind, screw, up, have, screw, up, account, have, now, send, specialist, i, have, wait, least, day, i, even, use, system, anymore, everything, require, playstation, id, so, not, happy, give, star, instead, customer, service, guy, be, pretty, nice, do, best, be, sony, company, screw, up, so, good, job, support, guy, boo, sony]   \n",
       "4317                                                                                                                                                                                                                                                                                                                                                                                                                                                                                                                                                                                                                                                                             [favorite]   \n",
       "1751                                                                                                                                                                                                                                                                                                                                                                                                                                                                                                                                                                                                           [i, receive, ghostbusters, movie, instead, i, be, look, forward, play, game]   \n",
       "4034                                                                                                                                                                                                                                                                                                                                                                                [so, much, fun, improves, so, much, love, setting, menu, blood, physic, be, awesome, get, game, i, recommend, superpad, look, modern, controller, just, game, dose, use, dpad, crap, get, controller, anyway, love, game, few, game, i, know, shoot, one, neck, watch, blood, squirt, blow, limb, love]   \n",
       "\n",
       "      sentiment_score  \n",
       "2434            1.250  \n",
       "1689            5.250  \n",
       "4317            0.250  \n",
       "1751            0.125  \n",
       "4034            1.375  "
      ]
     },
     "execution_count": 58,
     "metadata": {},
     "output_type": "execute_result"
    }
   ],
   "source": [
    "reviews[['reviewText','lemmas','sentiment_score']].sample(5)"
   ]
  },
  {
   "cell_type": "code",
   "execution_count": null,
   "metadata": {},
   "outputs": [],
   "source": []
  },
  {
   "cell_type": "code",
   "execution_count": null,
   "metadata": {},
   "outputs": [],
   "source": []
  },
  {
   "cell_type": "code",
   "execution_count": null,
   "metadata": {},
   "outputs": [],
   "source": []
  },
  {
   "cell_type": "code",
   "execution_count": null,
   "metadata": {},
   "outputs": [],
   "source": []
  },
  {
   "cell_type": "code",
   "execution_count": null,
   "metadata": {},
   "outputs": [],
   "source": []
  }
 ],
 "metadata": {
  "kernelspec": {
   "display_name": "Python 3",
   "language": "python",
   "name": "python3"
  },
  "language_info": {
   "codemirror_mode": {
    "name": "ipython",
    "version": 3
   },
   "file_extension": ".py",
   "mimetype": "text/x-python",
   "name": "python",
   "nbconvert_exporter": "python",
   "pygments_lexer": "ipython3",
   "version": "3.6.12"
  }
 },
 "nbformat": 4,
 "nbformat_minor": 4
}
